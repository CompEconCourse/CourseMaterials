{
 "cells": [
  {
   "cell_type": "markdown",
   "metadata": {
    "slideshow": {
     "slide_type": "slide"
    }
   },
   "source": [
    "# Dynamic models with continous choice\n",
    "\n",
    "“Dynamic programming and structural estimation” mini course\n",
    "\n",
    "Fedor Iskhakov"
   ]
  },
  {
   "cell_type": "markdown",
   "metadata": {
    "slideshow": {
     "slide_type": "slide"
    }
   },
   "source": [
    "## Cake eating problem\n",
    "\n",
    "<img src=\"_static/cake.png\" style=\"width:128px;\">\n",
    "\n",
    "  \n",
    "- Cake of initial size $ M_0 $  \n",
    "- How much of the cake to eat each period $ t $, $ c_t $?  \n",
    "- Time is discrete, $ t=1,2,\\dots,\\infty $  \n",
    "- What is not eaten in period $ t $ is left for the future $ M_{t+1}=M_t-c_t $  "
   ]
  },
  {
   "cell_type": "markdown",
   "metadata": {
    "slideshow": {
     "slide_type": "slide"
    }
   },
   "source": [
    "## Model specification and parametrization\n",
    "\n",
    "- Preferences of the decision maker\n",
    "  - Utility flow from cake consumption\n",
    "  - Discount factor  \n",
    "- Choices of the decision maker\n",
    "  - How much cake to eat  \n",
    "- State space of the problem\n",
    "  - A full list of variables that are relevant to the choices in question  \n",
    "- Beliefs of the decision agents about how the state will evolve\n",
    "  - Transition density/probabilities of the states\n",
    "  - May be conditional on the choices  "
   ]
  },
  {
   "cell_type": "markdown",
   "metadata": {
    "slideshow": {
     "slide_type": "slide"
    }
   },
   "source": [
    "## Preferences in the cake eating\n",
    "\n",
    "Let the flow utility be given by\n",
    "\n",
    "$$\n",
    "u(c_{t})=\\log(c_t)\n",
    "$$\n",
    "\n",
    "Overall goal is to maximize the discounted expected lifetime utility\n",
    "\n",
    "$$\n",
    "\\max_{\\{c_{t}\\}_{0}^{\\infty}}\\sum_{t=0}^{\\infty}\\beta^{t}u(c_{t})\n",
    "\\longrightarrow \\max\n",
    "$$"
   ]
  },
  {
   "cell_type": "markdown",
   "metadata": {
    "slideshow": {
     "slide_type": "slide"
    }
   },
   "source": [
    "## Value function\n",
    "\n",
    "**Value function** $ V(M_t) $ = the maximum attainable\n",
    "value given the size of cake $ M_t $ (in period $ t $)\n",
    "\n",
    "- State space is given by single variable $ M_t $  \n",
    "- Transition of the variable (**rather, beliefs**) depends on the choice  \n",
    "\n",
    "\n",
    "$$\n",
    "M_{t+1}=M_t-c_t\n",
    "$$"
   ]
  },
  {
   "cell_type": "markdown",
   "metadata": {
    "slideshow": {
     "slide_type": "slide"
    }
   },
   "source": [
    "## Bellman equation (recursive problem)\n",
    "\n",
    "$$\n",
    "\\begin{eqnarray*}\n",
    "  V(M_0) & = & \\max_{\\{c_{t}\\}_{0}^{\\infty}}\\sum_{t=0}^{\\infty}\\beta^{t}u(c_{t}) \\\\\n",
    "  & = & \\max_{0 \\le c_{0}\\le M_0}\\{u(c_{0})+\\beta\\max_{\\{c_{t}\\}_{1}^{\\infty}}\\sum_{t=1}^{\\infty}\\beta^{t-1}u(c_{t})\\} \\\\\n",
    "  & = & \\max_{0 \\le c_{0}\\le M_0}\\{u(c_{0})+\\beta V(M_1)\\}\n",
    "\\end{eqnarray*}\n",
    "$$\n",
    "\n",
    "$$\n",
    "V(M_t)=\\max_{0 \\le c_{t} \\le M_t}\\big\\{u(c_{t})+\\beta V(\\underset{=M_t-c_{t}}{\\underbrace{M_{t+1}}})\\big\\}\n",
    "$$"
   ]
  },
  {
   "cell_type": "markdown",
   "metadata": {
    "slideshow": {
     "slide_type": "slide"
    }
   },
   "source": [
    "## Bellman equation/operator\n",
    "\n",
    "- Bellman equation has all relevant model parts, and thus fully specifies the model  \n",
    "- *Equation* when thought of as point-wise equality of two functions  \n",
    "\n",
    "\n",
    "$$\n",
    "V(M_{t})=\\max_{0 \\le c_{t} \\le M_t}\\big\\{u(c_{t})+\\beta V(\\underset{=M_{t}-c_{t}}{\\underbrace{M_{t+1}}})\\big\\}\n",
    "$$\n",
    "\n",
    "- *Operator* when thought of as map that takes one (value) function as input\n",
    "  (it goes to the RHS), and returns another (value) function  \n",
    "\n",
    "\n",
    "$$\n",
    "T(f)(M)=\\max_{0 \\le c \\le M}\\big\\{u(c)+\\beta f(\\underset{=M-c}{\\underbrace{M'}})\\big\\}\n",
    "$$"
   ]
  },
  {
   "cell_type": "markdown",
   "metadata": {
    "slideshow": {
     "slide_type": "slide"
    }
   },
   "source": [
    "## Recap: components of the dynamic model\n",
    "\n",
    "- **State variables** — vector of variables that describe all relevant\n",
    "  information about the modeled decision process, $ M_t $  \n",
    "- **Decision variables** — vector of variables describing the choices,\n",
    "  $ c_t $  \n",
    "- **Instantaneous payoff** — utility function, $ u(c_t) $, with\n",
    "  time separable discounted utility  \n",
    "- **Motion rules** — agent’s beliefs of how state variable evolve\n",
    "  through time, conditional on choices, $ M_{t+1}=M_t-c_t $  \n",
    "- **Value function** — maximum attainable utility, $ V(M_t) $  \n",
    "- **Policy function** — mapping from state space to action space that\n",
    "  returns the optimal choice, $ c^{\\star}(M_t) $  "
   ]
  },
  {
   "cell_type": "markdown",
   "metadata": {
    "slideshow": {
     "slide_type": "slide"
    }
   },
   "source": [
    "## Maybe we can find analytic solution?\n",
    "\n",
    "- Start with a (good) guess of $ V(M)=A+B\\log M $  \n",
    "  $$\n",
    "  \\begin{eqnarray*}\n",
    "  V(M) & = & \\max_{c}\\big\\{u(c)+\\beta V(M-c)\\big\\} \\\\\n",
    "  A+B\\log M & = & \\max_{c} \\big\\{\\log c+\\beta(A+B\\log (M-c)) \\big\\}\n",
    "  \\end{eqnarray*}\n",
    "  $$\n",
    "- Determine $ A $ and $ B $ and find the optimal rule for cake\n",
    "  consumption.  \n",
    "- This is only possible in **few** models!  "
   ]
  },
  {
   "cell_type": "markdown",
   "metadata": {
    "slideshow": {
     "slide_type": "slide"
    }
   },
   "source": [
    "F.O.C. for $ c $\n",
    "\n",
    "$$\n",
    "\\frac{1}{c} - \\frac{\\beta B}{M - c} = 0, \\quad c = \\frac {M} {1 + \\beta B}, M - c = \\frac {\\beta B M} {1 + \\beta B}\n",
    "$$\n",
    "\n",
    "Then we have\n",
    "\n",
    "$$\n",
    "A + B\\log M = \\log M + \\log\\frac{1}{1+\\beta B} +\n",
    "\\beta A + \\beta B \\log M + \\beta B \\log\\frac{\\beta B}{1+\\beta B}\n",
    "$$\n",
    "\n",
    "$$\n",
    "\\begin{eqnarray*}\n",
    "A &=& \\beta A + \\log\\frac{1}{1+\\beta B} + \\beta B \\log\\frac{\\beta B}{1+\\beta B} \\\\\n",
    "B &=& 1 + \\beta B\n",
    "\\end{eqnarray*}\n",
    "$$"
   ]
  },
  {
   "cell_type": "markdown",
   "metadata": {
    "slideshow": {
     "slide_type": "slide"
    }
   },
   "source": [
    "After some algebra\n",
    "\n",
    "$$\n",
    "c^{\\star}(M) =  \\frac {M} {1 + \\beta B} = \\frac {M} {1 + \\frac{\\beta}{1-\\beta}} = (1-\\beta)M\n",
    "$$\n",
    "\n",
    "$$\n",
    "V(M) = \\frac{\\log(M)}{1-\\beta} + \\frac{\\log(1-\\beta)}{1-\\beta} + \\frac{\\beta \\log(\\beta)}{(1-\\beta)^2}\n",
    "$$"
   ]
  },
  {
   "cell_type": "markdown",
   "metadata": {
    "slideshow": {
     "slide_type": "slide"
    }
   },
   "source": [
    "## From cake eating to consumption-savings\n",
    "\n",
    "$$\n",
    "V(M_{t})=\\max_{0 \\le c_{t} \\le M_t}\\big\\{u(c_{t})+\\beta V\\big(\\underset{=M_{t+1}}{\\underbrace{R(M_{t}-c_{t})+y}}\\big)\\big\\}\n",
    "$$\n",
    "\n",
    "What has changed?"
   ]
  },
  {
   "cell_type": "markdown",
   "metadata": {
    "slideshow": {
     "slide_type": "slide"
    }
   },
   "source": [
    "## Consumption-savings problem (Deaton model)\n",
    "\n",
    "- Wealth in the beginning of the period $ M_t $  \n",
    "- Consumption at period $ t $ is $ 0 \\le c_t \\le M_t $  \n",
    "- No borrowing is allowed  \n",
    "- Discount factor $ \\beta $, time separable utility $ u(c_t) = \\log(c_t) $  \n",
    "- Gross return on savings $ R $, risk free  \n",
    "- Constant income $ y \\ge 0 $  \n",
    "\n",
    "\n",
    "For cake eating problem we have $ R=1 $ and $ y=0 $."
   ]
  },
  {
   "cell_type": "markdown",
   "metadata": {
    "slideshow": {
     "slide_type": "slide"
    }
   },
   "source": [
    "## Numerical solution\n",
    "\n",
    "**Bellman equation**\n",
    "\n",
    "$$\n",
    "V(M) = \\max_{0 \\le c \\le M} \\big[ u(c)+\\beta V(R(M-c)) \\big ]\n",
    "$$\n",
    "\n",
    "Have to solve the **functional equation** for $ V(M) $\n",
    "\n",
    "$$\n",
    "T(V)(M) \\equiv \\max_{0 \\le c \\le M} \\big[u(c)+\\beta V(R(M-c))\\big]\n",
    "$$\n",
    "\n",
    "The Bellman equations is then $ V(M) = T({V})(M) $, with the\n",
    "solution given by the fixed point, $ T({V}) = V $"
   ]
  },
  {
   "cell_type": "markdown",
   "metadata": {
    "slideshow": {
     "slide_type": "slide"
    }
   },
   "source": [
    "## Contraction mapping theory\n",
    "\n",
    "- Need contraction property for $ T(V)(M) $  \n",
    "- Blackwell sufficient conditions for contraction\n",
    "  - Monotonicity: satisfied due to maximization in $ T(V)(M) $\n",
    "  - Discounting: satisfied by elementary argument when $ \\beta<1 $  \n",
    "- **The Bellman operator is a contraction mapping!**  \n",
    "\n",
    "\n",
    "*Contraction Mapping Theorem (Banach Fixed Point Theorem)*\n",
    "Let $ (S,\\rho) $ be a complete metric space with a contraction mapping\n",
    "$ T: S \\rightarrow S $.\n",
    "Then\n",
    "1. $ T $ admits a unique fixed-point $ V^{\\star} \\in S $, i.e. $ T(V^{\\star}) = V^{\\star} $.\n",
    "2. $ V^{\\star} $ can be found by repeated application of the operator $ T $, i.e. $ T^n(V) \\rightarrow V^{\\star} $ as $ n\\rightarrow \\infty $."
   ]
  },
  {
   "cell_type": "markdown",
   "metadata": {
    "slideshow": {
     "slide_type": "slide"
    }
   },
   "source": [
    "## Value function iterations (VFI)\n",
    "\n",
    "- Start with an arbitrary guess $ V_0(M) $\n",
    "  (will see next time that the initial guess is not important)  \n",
    "- At each iteration $ i $ compute  \n",
    "\n",
    "\n",
    "$$\n",
    "\\begin{eqnarray*}\n",
    "V_i(M) = T(V_{i-1})(M) &=&\n",
    "\\max_{0 \\le c \\le M} \\big\\{u(c)+\\beta V_{i-1}(RM-Rc) \\big \\}  \\\\\n",
    "c_{i-1}(M) &=&\n",
    "\\underset{0 \\le c \\le M}{\\arg\\max} \\big\\{u(c)+\\beta V_{i-1}(RM-Rc) \\big \\}\n",
    "\\end{eqnarray*}\n",
    "$$\n",
    "\n",
    "- Repeat until convergence  "
   ]
  },
  {
   "cell_type": "markdown",
   "metadata": {
    "slideshow": {
     "slide_type": "slide"
    }
   },
   "source": [
    "## The contraction mapping theorem implies\n",
    "\n",
    "- Unique fixed point $ \\Leftrightarrow $ unique solution to the\n",
    "  Bellman equation  \n",
    "- The fixed point can be reached by an iterative process using an\n",
    "  **arbitrary initial guess**!  \n",
    "- Therefore VFI algorithm converges globally  "
   ]
  },
  {
   "cell_type": "markdown",
   "metadata": {
    "slideshow": {
     "slide_type": "slide"
    }
   },
   "source": [
    "## Numerical implementation of the Bellman operator\n",
    "\n",
    "- Cake is continuous $ \\rightarrow $ value function is a function\n",
    "  of continuous variable  \n",
    "- Solution: **discretize** $ M $\n",
    "  Construct a *grid* (vector) of cake-sizes\n",
    "  $ \\vec{M}\\in\\{0,\\dots\\overline{M}\\} $  \n",
    "\n",
    "\n",
    "$$\n",
    "V_{i}\\big(\\vec{M}\\big)=\\max_{0 \\le c \\le \\vec{M}}\\{u(c)+\\beta V_{i-1}\\big(R(\\vec{M}-c)\\big)\\}\n",
    "$$\n",
    "\n",
    "- Compute value and policy function sequentially point-by-point  \n",
    "- May need to compute the value function *between grid points*\n",
    "  $ \\Rightarrow $ Interpolation and function approximation  "
   ]
  },
  {
   "cell_type": "markdown",
   "metadata": {
    "slideshow": {
     "slide_type": "slide"
    }
   },
   "source": [
    "## How to approach maximization over the continuous variable?\n",
    "\n",
    "1. **Discretize** consumption choice as well\n",
    "2. Employ **root finding** procedures\n",
    "3. Invert the first order conditions (**endogenous gridpoint** methods)\n",
    "\n",
    "With this we also have to:\n",
    "\n",
    "- Interpolate value function in the next period, because we have to be able to compute $V_{i-1}\\big(R(\\vec{M}-c)\\big)$\n",
    "- Later when $R$ or $y$ or both are random, have to compute the expectations"
   ]
  },
  {
   "cell_type": "markdown",
   "metadata": {
    "slideshow": {
     "slide_type": "slide"
    }
   },
   "source": [
    "## Function interpolation (sidenote)\n",
    "\n",
    "- $ f(x) $ is function of interest, hard to compute  \n",
    "- \n",
    "  <dl style='margin: 20px 0;'>\n",
    "  <dt>Have data on values of $ f(x) $ in $ n $ points</dt>\n",
    "  <dd>\n",
    "  $ (x_1,\\dots,x_n) $  \n",
    "  </dd>\n",
    "  \n",
    "  </dl>\n",
    "  \n",
    "\n",
    "\n",
    "$$\n",
    "f(x_1), f(x_2), \\dots f(x_n)\n",
    "$$\n",
    "\n",
    "- \n",
    "  <dl style='margin: 20px 0;'>\n",
    "  <dt>Need to find the approximate value of the function $ f(x) $ in</dt>\n",
    "  <dd>\n",
    "  arbitrary points $ x \\in [x_1,x_n] $  \n",
    "  </dd>\n",
    "  \n",
    "  </dl>"
   ]
  },
  {
   "cell_type": "markdown",
   "metadata": {
    "slideshow": {
     "slide_type": "slide"
    }
   },
   "source": [
    "## Approaches\n",
    "\n",
    "1. Use *piece-wise* approach (connect the dots)  \n",
    "\n",
    "\n",
    "- choice of functional form to use for connections  \n",
    "- *linear interpolation* is typical approach  \n",
    "\n",
    "\n",
    "1. Use a *similar* function $ s(x) $ to represent $ f(x) $\n",
    "  between the data points  \n",
    "\n",
    "\n",
    "- harder choice of functional form  \n",
    "- which data should be used for the approximation  \n",
    "- *polynomial approximation* is typical approach  "
   ]
  },
  {
   "cell_type": "code",
   "execution_count": null,
   "metadata": {
    "hide-output": false,
    "slideshow": {
     "slide_type": "slide"
    }
   },
   "outputs": [],
   "source": [
    "import numpy as np\n",
    "import matplotlib.pyplot as plt\n",
    "%matplotlib inline\n",
    "from scipy import interpolate # Interpolation routines\n",
    "\n",
    "np.random.seed(173) # fix random number sequences\n",
    "x=np.sort(np.random.uniform(0,10,12)) # sorted random numbers on [0,10]\n",
    "func=lambda x: np.exp(-x/4)*np.sin(x) # function to interpolate\n",
    "\n",
    "def plot1(ifunc,tfunc=func,fdata=(x,func(x)),color='b',title=''):\n",
    "    '''helper function to make illustrations'''\n",
    "    xd = np.linspace(0,10,1000) # dense grid for continuous lines\n",
    "    plt.figure(num=1, figsize=(10,8))\n",
    "    if tfunc: plt.plot(xd,tfunc(xd),color='grey') # true function\n",
    "    plt.scatter(fdata[0],fdata[1],color='r') # interpolation data\n",
    "    if ifunc:\n",
    "        try:\n",
    "            plt.plot(xd,ifunc(xd),color=color)\n",
    "        except(ValueError):\n",
    "            # catch the exprapolation error\n",
    "            xd=xd[np.logical_and(xd>=fdata[0][0],xd<=fdata[0][-1])] # remove outside points\n",
    "            plt.plot(xd,ifunc(xd),color=color)\n",
    "    if title: plt.title(title)"
   ]
  },
  {
   "cell_type": "code",
   "execution_count": null,
   "metadata": {
    "hide-output": false,
    "slideshow": {
     "slide_type": "slide"
    }
   },
   "outputs": [],
   "source": [
    "plot1(None,title='True function')"
   ]
  },
  {
   "cell_type": "code",
   "execution_count": null,
   "metadata": {
    "hide-output": false,
    "slideshow": {
     "slide_type": "slide"
    }
   },
   "outputs": [],
   "source": [
    "fi = interpolate.interp1d(x,func(x)) # returns the interpolation function\n",
    "plot1(fi,title='Linear interpolation')"
   ]
  },
  {
   "cell_type": "code",
   "execution_count": null,
   "metadata": {
    "hide-output": false,
    "scrolled": false,
    "slideshow": {
     "slide_type": "slide"
    }
   },
   "outputs": [],
   "source": [
    "for knd, clr in ('linear','m'),('nearest','b'),('cubic','g'):\n",
    "    fi = interpolate.interp1d(x,func(x),kind=knd)\n",
    "    plot1(fi,title=knd,color=clr)\n",
    "    plt.show()"
   ]
  },
  {
   "cell_type": "code",
   "execution_count": null,
   "metadata": {
    "hide-output": false,
    "scrolled": false,
    "slideshow": {
     "slide_type": "slide"
    }
   },
   "outputs": [],
   "source": [
    "# Approximation errors\n",
    "x=np.sort(np.random.uniform(0,10,15))  # generate new data\n",
    "maxerr={}\n",
    "for knd, clr in ('linear','m'),('nearest','b'),('cubic','g'):\n",
    "    fi = interpolate.interp1d(x,func(x),kind=knd,bounds_error=False,fill_value=\"extrapolate\")\n",
    "    xd = np.linspace(0,10,1000)\n",
    "    erd=np.abs(func(xd)-fi(xd))\n",
    "    plt.figure(num=1, figsize=(10,8))\n",
    "    plt.plot(xd,erd,color=clr,label=knd)\n",
    "    maxerr[knd]=np.nanmax(erd)\n",
    "plt.legend()\n",
    "print('Max errors from smallest to largest:') #sort maxerr on the fly\n",
    "for k, v in sorted(maxerr.items(), key=lambda item: item[1]):\n",
    "    print('%-10s %1.15f'%(k,v))\n",
    "# How to reduce approximation errors?"
   ]
  },
  {
   "cell_type": "markdown",
   "metadata": {
    "slideshow": {
     "slide_type": "slide"
    }
   },
   "source": [
    "## Accuracy of the interpolation\n",
    "\n",
    "- Number of nodes  \n",
    "- Location of nodes  \n",
    "- Different functions require different approximation methods  \n",
    "\n",
    "\n",
    "*In economic models we usually can choose all of these, subject to computational cost*"
   ]
  },
  {
   "cell_type": "markdown",
   "metadata": {
    "slideshow": {
     "slide_type": "slide"
    }
   },
   "source": [
    "## Method 1: Discretized consumption choice\n",
    "\n",
    "*Control for grid over state space separately from the discretization of\n",
    "the choice variables to increase accuracy*\n",
    "\n",
    "- Discretized state space $ \\vec{M}\\in\\{0,\\dots\\overline{M}\\} $  \n",
    "- Discretize decision space with\n",
    "  $ \\vec{C}\\in\\{0,\\dots\\overline{C}\\} $, usually\n",
    "  $ \\overline{C}=\\overline{M} $  \n",
    "\n",
    "\n",
    "Bellman equation becomes for all $ m \\in \\vec{M} $\n",
    "\n",
    "$$\n",
    "V_{i}(m)=\\max_{c \\in \\vec{C}: c \\le m}\\{u(c)+\\beta V_{i-1}\\big(R(m-c)+y\\big)\\}\n",
    "$$"
   ]
  },
  {
   "cell_type": "markdown",
   "metadata": {
    "slideshow": {
     "slide_type": "slide"
    }
   },
   "source": [
    "## Final algorithm with discretized state and choice\n",
    "\n",
    "1. Fix the grids $ \\vec{M} $ and $ \\vec{C} $ over the state and choice space  \n",
    "1. Start with an arbitrary guess $ V_0(M) $  (as we know from contraction mapping theory the initial guess is not important)  \n",
    "1. At each iteration $ i $ and each $ m \\in \\vec{M} $ compute  \n",
    "  $$\n",
    "  \\begin{eqnarray*}\n",
    "  V_i(M) = T(V_{i-1})(M) &=&\n",
    "  \\max_{c \\in \\vec{C}: c \\le \\vec{M}}\\big\\{u(c)+\\beta V_{i-1}\\big(R(\\vec{M}-c)+y\\big)\\big\\} \\\\\n",
    "  c_{i-1}(M) &=&\n",
    "  \\underset{c \\in \\vec{C}: c \\le \\vec{M}}{\\arg\\max} \\big\\{u(c)+\\beta V_{i-1}\\big(R(\\vec{M}-c)+y\\big)\\big\\}\n",
    "  \\end{eqnarray*}\n",
    "  $$\n",
    "\n",
    "\n",
    "1. Repeat until convergence  \n",
    "\n",
    "\n",
    "*Note interpolation of value function $V_{i-1}(\\bullet)$ and maximization over finite set*"
   ]
  },
  {
   "cell_type": "code",
   "execution_count": null,
   "metadata": {
    "hide-output": false,
    "scrolled": false,
    "slideshow": {
     "slide_type": "slide"
    }
   },
   "outputs": [],
   "source": [
    "import numpy as np\n",
    "import matplotlib.pyplot as plt\n",
    "from scipy import interpolate\n",
    "from scipy.optimize import minimize_scalar\n",
    "\n",
    "class deaton():\n",
    "    '''Implementation of the Deaton consumption-savings problem with income.\n",
    "    '''\n",
    "    def __init__(self,\n",
    "                 beta=.9,\n",
    "                 R=1.05,\n",
    "                 y=1,\n",
    "                 Mbar=10,\n",
    "                 ngrid_state=50,\n",
    "                 ngrid_choice=100,\n",
    "                 interpolation='linear',\n",
    "                 maximization='discretized',\n",
    "                 maxiter_bellman=100,\n",
    "                 tol_bellman=1e-8,\n",
    "                 testing=False):\n",
    "        self.beta = beta    # Discount factor\n",
    "        self.Mbar = Mbar    # Upper bound on wealth\n",
    "        self.R = R          # Gross interest\n",
    "        self.y = y          # Income level\n",
    "        self.ngrid_state = ngrid_state    # Number of grid points for wealth\n",
    "        self.ngrid_choice = ngrid_choice  # Number of grid points for consumption\n",
    "        self.maximization = maximization  # Type of maximization in Bellman\n",
    "        self.maxiter_bellman = maxiter_bellman # Maxiter for numerical optimization in Bellman\n",
    "        self.tol_bellman=1e-8                  # Tolerance for numerical optimization in Bellman\n",
    "        self.testing = testing # print debug messages\n",
    "        if testing:\n",
    "            self.epsilon = 0.0 # for testing and debugging\n",
    "        else:\n",
    "            self.epsilon = np.finfo(float).eps # smallest positive float number\n",
    "        self.grid_state = np.linspace(self.epsilon,Mbar,ngrid_state) # grid for state space\n",
    "        self.grid_choice = np.linspace(self.epsilon,Mbar,ngrid_choice) # grid for decision space\n",
    "        self.interpolation = interpolation # interpolation type for Bellman equation\n",
    "\n",
    "    def u(self,c):\n",
    "        '''Utility function'''\n",
    "        return np.log(c)\n",
    "\n",
    "    def mu(self,c):\n",
    "        '''Marginal utility function'''\n",
    "        return 1/c\n",
    "\n",
    "    def imu(self,u):\n",
    "        '''Inverse marginal utility function'''\n",
    "        return 1/u\n",
    "\n",
    "    def next_period_wealth(self,M,c):\n",
    "        '''Next period budget, vectorized'''\n",
    "        assert isinstance(M, float) or M.shape == c.shape, 'Shape of M and c must be the same'\n",
    "        return self.R*(M-c) + self.y\n",
    "\n",
    "    def interpolate(self,x,f):\n",
    "        '''Returns the interpolation function for given data'''\n",
    "        if self.interpolation=='linear':\n",
    "            return interpolate.interp1d(x,f,kind='slinear',fill_value=\"extrapolate\")\n",
    "        elif self.interpolation=='quadratic':\n",
    "            return interpolate.interp1d(x,f,kind='quadratic',fill_value=\"extrapolate\")\n",
    "        elif self.interpolation=='cubic':\n",
    "            return interpolate.interp1d(x,f,kind='cubic',fill_value=\"extrapolate\")\n",
    "        else:\n",
    "            print('Unknown interpolation type')\n",
    "            return None\n",
    "\n",
    "    def bellman_discretized(self,V0):\n",
    "        '''Bellman operator with discretized choice,\n",
    "           V0 is 1-dim vector of values on grid\n",
    "        '''\n",
    "        # idea: create maxtix with state grid in columns and choice grid in rows\n",
    "        # and then take maximum in each column to perform discretized choice\n",
    "        M = np.repeat(np.reshape(self.grid_state,(1,-1)),self.ngrid_choice,0) # matrix with state space repeated in rows\n",
    "        c = np.repeat(np.reshape(self.grid_choice,(-1,1)),self.ngrid_state,1) # decisions grid repeated by columns\n",
    "        # c *= np.reshape(self.grid_state,(1,-1)) /self.Mbar # what does this line do???\n",
    "        # compute wealth in the next period\n",
    "        nxM = self.next_period_wealth(M,c)\n",
    "        mask = c<=M # mask off infeasible choices\n",
    "        if self.testing:\n",
    "            print('M=',M,sep='\\n') # debugging and testing\n",
    "            print('c=',c,sep='\\n')\n",
    "            print('nxM=',nxM,sep='\\n')\n",
    "            print('mask=',mask,sep='\\n')\n",
    "        # interpolate values of next period value at next period case sizes\n",
    "        inter = self.interpolate(self.grid_state,V0)\n",
    "        nxV = inter(nxM) # value of next period wealth\n",
    "        # construct the matrix with maximand of the Bellman equation\n",
    "        preV1 = np.full((self.ngrid_choice,self.ngrid_state),-np.inf) # init V with -inf\n",
    "        preV1[mask] = self.u(c[mask]) + self.beta*nxV[mask]\n",
    "        # find optimal choice\n",
    "        V1 = np.amax(preV1,axis=0,keepdims=False) # maximum in every column\n",
    "        c1 = c[np.argmax(preV1,axis=0),range(self.ngrid_state)] # choose the max attaining levels of c\n",
    "        return V1, c1\n",
    "\n",
    "    def bellman_continuous(self,V0):\n",
    "        #Bellman operator, V0 is one-dim vector of values on grid\n",
    "        def maximand(c,M,inter):\n",
    "            '''Maximand of the Bellman equation'''\n",
    "            Vnext = inter(self.next_period_wealth(M,c)) # next period value at the size of cake in the next period\n",
    "            V1 = self.u(c) + self.beta*Vnext\n",
    "#             V1[np.isneginf(V1)]=np.log(self.epsilon) # replace -inf with low number\n",
    "            return -V1 # negative because of minimization\n",
    "        def findC(M,maximand=None,inter=None):\n",
    "            '''Solves for optimal consumption for given cake size M and interpolated V0'''\n",
    "            opt = {'maxiter':self.maxiter_bellman, 'xatol':self.tol_bellman}\n",
    "            if self.testing: opt['disp']=3\n",
    "            res = minimize_scalar(maximand,args=(M,inter),method='Bounded',bounds=[self.epsilon,M],options=opt)\n",
    "            if res.success:\n",
    "                return res.x # if converged successfully\n",
    "            else:\n",
    "                return M/2 # return some visibly wrong value\n",
    "        # interpolation method\n",
    "        inter = self.interpolate(self.grid_state,V0)\n",
    "        # loop over states\n",
    "        c1=np.empty(self.ngrid_state,dtype='float')\n",
    "        for i in range(self.ngrid_state):\n",
    "            c1[i] = findC(self.grid_state[i],maximand,inter)\n",
    "            if self.testing: print('\\n STATE POINT',i,': M =',self.grid_state[i],'c =',c1[i])\n",
    "        V1 = - maximand(c1,self.grid_state,inter) # don't forget the negation!\n",
    "        return V1, c1\n",
    "    \n",
    "    def solve_vfi (self, maxiter=100, tol=1e-4, callback=None):\n",
    "        '''Solves the model using successive approximations\n",
    "        '''\n",
    "        if self.testing: maxiter = 1 # limit output in testing mode            \n",
    "        V0=self.u(self.grid_state) # on first iteration assume consuming everything\n",
    "        for iter in range(maxiter):\n",
    "            if self.maximization == 'discretized':\n",
    "                V1,c1=self.bellman_discretized(V0)\n",
    "            else:\n",
    "                V1,c1=self.bellman_continuous(V0)\n",
    "            if callback: callback(iter,self.grid_state,V1,c1) # callback for making plots\n",
    "            if np.all(abs(V1-V0) < tol):\n",
    "                break\n",
    "            V0=V1\n",
    "        else:  # when i went up to maxiter\n",
    "            if self.testing: \n",
    "                print('Stopped after first VFI iteration in testing mode')\n",
    "            else:\n",
    "                print('No convergence: maximum number of iterations achieved!')\n",
    "        return V1,c1\n",
    "\n",
    "    def solve_egm (self, maxiter=100, tol=1e-4, callback=None):\n",
    "        '''Solver the model using endogenous gridpoint method\n",
    "        '''\n",
    "        A = np.linspace(0,self.Mbar,self.ngrid_state) # grid over savings\n",
    "        zz = np.zeros(self.ngrid_state) # vector of zeros\n",
    "        gr1 = np.array([0,self.Mbar]) # grid of two points\n",
    "        c1 = np.array([0,self.Mbar]) # on first iteration assume consuming everything\n",
    "        self.y = max(self.y,self.epsilon) # to avoid devision by zero\n",
    "        for iter in range(maxiter):\n",
    "            # EGM step\n",
    "            if self.testing: print('Iteration %3d : '%iter,end='')\n",
    "            nxM = self.next_period_wealth(A,zz) # next period M\n",
    "            inter = self.interpolate(gr1,c1) # interpolate current policy function\n",
    "            nxc = inter(nxM) # consumption next period\n",
    "            c0 = np.empty(self.ngrid_state+1) # one extra point\n",
    "            gr0 = np.empty(self.ngrid_state+1) # one extra point\n",
    "            c0[0] = 0.\n",
    "            c0[1:] = self.imu(self.beta*self.R*self.mu(nxc)) # consumption this period\n",
    "            gr0[0] = 0\n",
    "            gr0[1:] = c0[1:] + A\n",
    "            if callback: callback(iter,gr0,np.full(gr0.shape,np.nan),c0) # callback for making plots\n",
    "            # interpolate old policy on new grid\n",
    "            dev = np.abs( inter(gr0[1:]) - c0[1:] )\n",
    "            if self.testing:  print('max difference = %1.6e'%np.max(dev))\n",
    "            if np.max(dev) < tol:\n",
    "                break\n",
    "            gr1 = gr0\n",
    "            c1 = c0\n",
    "        else:  # when i went up to maxiter\n",
    "            print('No convergence: maximum number of iterations achieved!')\n",
    "        # reinterpolate to the state grid for convenience\n",
    "        inter = self.interpolate(gr0,c0)\n",
    "        c = inter(self.grid_state)\n",
    "        return [],c\n",
    "\n",
    "    def solve_plot(self, solver_name='vfi', **kvarg):\n",
    "        '''Illustrate solution\n",
    "           Inputs: solver (string), and any inputs to the solver\n",
    "        '''\n",
    "        if solver_name=='egm':\n",
    "            solver = self.solve_egm\n",
    "        else:\n",
    "            solver = self.solve_vfi\n",
    "        fig1, (ax1,ax2) = plt.subplots(1,2,figsize=(16,8))\n",
    "        ax1.grid(b=True, which='both', color='0.65', linestyle='-')\n",
    "        ax2.grid(b=True, which='both', color='0.65', linestyle='-')\n",
    "        ax1.set_title('Value function convergence with %s'%solver_name)\n",
    "        ax2.set_title('Policy function convergence with %s'%solver_name)\n",
    "        ax1.set_xlabel('Wealth, M')\n",
    "        ax2.set_xlabel('Wealth, M')\n",
    "        ax1.set_ylabel('Value function')\n",
    "        ax2.set_ylabel('Policy function')\n",
    "        def callback(iter,grid,v,c):\n",
    "            print('.',end='')\n",
    "            ax1.plot(grid[1:],v[1:],color='k',alpha=0.25)\n",
    "            ax2.plot(grid,c,color='k',alpha=0.25)\n",
    "        V,c = solver(callback=callback,**kvarg)\n",
    "        # add solutions\n",
    "        if any(V): ax1.plot(self.grid_state[1:],V[1:],color='r',linewidth=2.5)\n",
    "        if any(c): ax2.plot(self.grid_state,c,color='r',linewidth=2.5)\n",
    "        plt.show()\n",
    "        return V,c"
   ]
  },
  {
   "cell_type": "code",
   "execution_count": null,
   "metadata": {
    "scrolled": false
   },
   "outputs": [],
   "source": [
    "opt = {'maxiter':1, 'xatol':1}\n",
    "opt['disp']=3\n",
    "print(opt)\n"
   ]
  },
  {
   "cell_type": "code",
   "execution_count": null,
   "metadata": {
    "hide-output": false,
    "slideshow": {
     "slide_type": "slide"
    }
   },
   "outputs": [],
   "source": [
    "# study the mechanics of the Bellman calculation: testing=True\n",
    "model = deaton(ngrid_state=5,ngrid_choice=4,testing=True)\n",
    "V,c = model.solve_vfi()"
   ]
  },
  {
   "cell_type": "code",
   "execution_count": null,
   "metadata": {
    "hide-output": false,
    "scrolled": false,
    "slideshow": {
     "slide_type": "slide"
    }
   },
   "outputs": [],
   "source": [
    "model = deaton(beta=0.92,Mbar=10,ngrid_state=50,ngrid_choice=50)\n",
    "V,c = model.solve_plot() # make convergence plot"
   ]
  },
  {
   "cell_type": "markdown",
   "metadata": {
    "slideshow": {
     "slide_type": "slide"
    }
   },
   "source": [
    "## Accuracy of the numerical solution\n",
    "\n",
    "Before attempting to estimate structural parameters it is useful to verify\n",
    "that our numerical solution method produces correct solution for the problem.\n",
    "How?\n",
    "\n",
    "- Compare against solution on a much denser grid, which would be otherwise impractical to use  \n",
    "- Compare solutions from several independent solution methods to each other  \n",
    "- Maybe there is an analytic solution for a special case?  \n",
    "  - Cake-eating model has one!  \n",
    "  - The case when $ \\beta R = 1 $ resulting in perfect consumption smoothing  "
   ]
  },
  {
   "cell_type": "code",
   "execution_count": null,
   "metadata": {
    "slideshow": {
     "slide_type": "slide"
    }
   },
   "outputs": [],
   "source": [
    "def check_analytic(model,V,policy):\n",
    "    '''Check the cake eating numerical solution against the analytic solution'''\n",
    "    # analytic solution\n",
    "    assert model.R==1 and model.y<=model.epsilon, 'Only makes sense for cake eating model, must have R=1 and y=0'\n",
    "    assert V is not None and policy is not None, 'Solution must be given'\n",
    "    aV = lambda w: np.log(w)/(1 - model.beta) + np.log(1 - model.beta)/(1 - model.beta) + model.beta* np.log(model.beta)/((1 - model.beta)**2)\n",
    "    aP = lambda w: (1 - model.beta) * w\n",
    "    grid = model.grid_state\n",
    "    # make plots\n",
    "    fig1, (ax1,ax2) = plt.subplots(1,2,figsize=(16,8))\n",
    "    ax1.grid(b=True, which='both', color='0.65', linestyle='-')\n",
    "    ax2.grid(b=True, which='both', color='0.65', linestyle='-')\n",
    "    ax1.set_title('Value functions')\n",
    "    ax2.set_title('Policy functionas')\n",
    "    ax1.set_xlabel('Cake size, W')\n",
    "    ax2.set_xlabel('Cake size, W')\n",
    "    ax1.set_ylabel('Value function')\n",
    "    ax2.set_ylabel('Policy function')\n",
    "    if V.size>1:\n",
    "        ax1.plot(grid[1:],V[1:],linewidth=1.5,label='Numerical')\n",
    "        ax1.plot(grid[1:],aV(grid[1:]),linewidth=1.5,label='Analytical')\n",
    "    ax2.plot(grid,policy,linewidth=1.5,label='Numerical')\n",
    "    ax2.plot(grid,aP(grid),linewidth=1.5,label='Analytical')\n",
    "    if V.size>1: ax1.legend()\n",
    "    ax2.legend()\n",
    "    plt.show()"
   ]
  },
  {
   "cell_type": "code",
   "execution_count": null,
   "metadata": {
    "slideshow": {
     "slide_type": "slide"
    }
   },
   "outputs": [],
   "source": [
    "model = deaton(beta=0.92,R=1,y=0,Mbar=10,ngrid_state=50,ngrid_choice=150)\n",
    "V,c = model.solve_plot(maxiter=1000)"
   ]
  },
  {
   "cell_type": "code",
   "execution_count": null,
   "metadata": {
    "slideshow": {
     "slide_type": "slide"
    }
   },
   "outputs": [],
   "source": [
    "check_analytic(model,V=V,policy=c)"
   ]
  },
  {
   "cell_type": "markdown",
   "metadata": {
    "slideshow": {
     "slide_type": "slide"
    }
   },
   "source": [
    "## Questions to think about\n",
    "\n",
    "- What determines the accuracy of the solution\n",
    "- What determines the run time of the solver\n",
    "- How to improve the accuracy of the solution?"
   ]
  },
  {
   "cell_type": "markdown",
   "metadata": {
    "slideshow": {
     "slide_type": "slide"
    }
   },
   "source": [
    "## Method 2: Truely continuous choice \n",
    "\n",
    "**Then optimization methods to be used at every iteration and every state point:**\n",
    "\n",
    "- For **Newton** we would need first and second derivatives of $ V_{i-1} $, which is\n",
    "  itself only approximated on a grid, so no go..  \n",
    "- The problem is bounded, so **constrained (bounded) optimization** method is needed\n",
    "- **Bisections** should be considered\n",
    "- Other derivative free methods?\n",
    "- Quasi-Newton method with bounds?"
   ]
  },
  {
   "cell_type": "markdown",
   "metadata": {
    "slideshow": {
     "slide_type": "slide"
    }
   },
   "source": [
    "## Bounded optimization in Python\n",
    "\n",
    "*Bounded optimization* is a kind of *constrained optimization* with simple\n",
    "bounds on the variables\n",
    "(like Robust Newton algorithm in weekly assignment 6)\n",
    "\n",
    "Will use **scipy.optimize.minimize_scalar(method=’bounded’)** which uses the\n",
    "Brent method to find a local minimum."
   ]
  },
  {
   "cell_type": "code",
   "execution_count": null,
   "metadata": {
    "scrolled": true,
    "slideshow": {
     "slide_type": "slide"
    }
   },
   "outputs": [],
   "source": [
    "# study the mechanics of the Bellman calculation: testing=True\n",
    "model = deaton(ngrid_state=5,ngrid_choice=4,maximization='continuous',testing=True)\n",
    "V,c = model.solve_vfi()"
   ]
  },
  {
   "cell_type": "code",
   "execution_count": null,
   "metadata": {},
   "outputs": [],
   "source": [
    "# Cake eating with truely continuous choice\n",
    "model = deaton(beta=0.92,R=1,y=0,Mbar=10,ngrid_state=100,maximization='continuous')\n",
    "V,c = model.solve_plot(maxiter=1000)"
   ]
  },
  {
   "cell_type": "code",
   "execution_count": null,
   "metadata": {},
   "outputs": [],
   "source": [
    "# Check for accuracy\n",
    "check_analytic(model,V=V,policy=c)"
   ]
  },
  {
   "cell_type": "markdown",
   "metadata": {
    "slideshow": {
     "slide_type": "slide"
    }
   },
   "source": [
    "## Which optimization approach is faster?\n",
    "\n",
    "**How to time python code in Jupyter Notebooks:**\n",
    "\n",
    "`%%timeit <options> <setup command>`\n",
    "\n",
    "all lines of code in the cell to be timed together\n",
    "\n",
    "Options:\n",
    "\n",
    "- -nN to run N replications\n",
    "- -rN to run N runs in each replication"
   ]
  },
  {
   "cell_type": "code",
   "execution_count": null,
   "metadata": {
    "slideshow": {
     "slide_type": "slide"
    }
   },
   "outputs": [],
   "source": [
    "%%timeit -n2 -r1\n",
    "model = deaton(beta=0.92,R=1,y=0,Mbar=10,ngrid_state=50,ngrid_choice=100,maximization='discrete')\n",
    "model.solve_vfi(maxiter=1000)"
   ]
  },
  {
   "cell_type": "code",
   "execution_count": null,
   "metadata": {},
   "outputs": [],
   "source": [
    "%%timeit -n2 -r1\n",
    "model = deaton(beta=0.92,R=1,y=0,Mbar=10,ngrid_state=50,maximization='continuous')\n",
    "model.solve_vfi(maxiter=1000)"
   ]
  },
  {
   "cell_type": "markdown",
   "metadata": {
    "slideshow": {
     "slide_type": "slide"
    }
   },
   "source": [
    "## Method 3: Endogenous gridpoint method\n",
    "\n",
    "Sovling continuous dynamic models is hard!\n",
    "\n",
    "- Computationally intensive: have to solve an equation in each point of the state space on each iteration\n",
    "- Not very accurate: faster discretized solution clearly lacks accuracy\n",
    "\n",
    "What if we can solve both problems together?\n",
    "\n",
    "**EGM is direct computation of the solution to the consumption-savings model without any root-finding operations**\n",
    "\n",
    "The catch is that only some problems admin this solution method."
   ]
  },
  {
   "cell_type": "markdown",
   "metadata": {
    "slideshow": {
     "slide_type": "slide"
    }
   },
   "source": [
    "## First order conditions for Deaton model\n",
    "\n",
    "$$\n",
    "V(M_{t})=\\max_{0 \\le c_{t} \\le M_t}\\big\\{u(c_{t})+\\beta V\\big(\\underset{=M_{t+1}}{\\underbrace{R(M_{t}-c_{t})+y}}\\big)\\big\\}\n",
    "$$\n",
    "\n",
    "$$\n",
    "u'(c^\\star_t) - \\beta R V'(M_{t+1})\\big|_{c^\\star(t)} = 0\n",
    "$$\n",
    "\n",
    "Unfortunately, :math: V’(M_{t+1}) is not available without special provisions"
   ]
  },
  {
   "cell_type": "markdown",
   "metadata": {
    "slideshow": {
     "slide_type": "slide"
    }
   },
   "source": [
    "## Euler equation for Deaton model\n",
    "\n",
    "Apply envelope theorem to differentiate $ V(M_{t}) $ directly\n",
    "\n",
    "$$\n",
    "V'(M_t) = \\beta R V'(M_{t+1}) \\big|_{c^\\star(t)}\n",
    "$$\n",
    "\n",
    "Thus, we have $ u'(c_t) = V'(M_t) $ for every $ t $, and we have\n",
    "\n",
    "$$\n",
    "u'(c^\\star_t) = \\beta R u'(c^\\star_{t+1})\n",
    "$$"
   ]
  },
  {
   "cell_type": "markdown",
   "metadata": {
    "slideshow": {
     "slide_type": "slide"
    }
   },
   "source": [
    "## Consumption smoothing\n",
    "\n",
    "When $ \\beta R = 1 $ we have\n",
    "\n",
    "$$\n",
    "u'(c^\\star_t) = u'(c^\\star_{t+1}) \\Rightarrow\n",
    "c^\\star_t = c^\\star_{t+1}\n",
    "$$\n",
    "\n",
    "This is one of the tests for the correct solution of the consumption-savings model!"
   ]
  },
  {
   "cell_type": "markdown",
   "metadata": {
    "slideshow": {
     "slide_type": "slide"
    }
   },
   "source": [
    "## EGM algorithm\n",
    "\n",
    "1. Initialize policy function with some values, for example $c_0(M)=M$\n",
    "2. For a given iteration $i$:\n",
    "3. For each value $a \\in \\{a_0=0,a_1,\\dots,a_K=\\bar{a}\\}$, compute:\n",
    "4. Assuming $a=M-c$, compute $M' = Ra+y$\n",
    "5. Using policy function from previous iteration, compute $c_{i-1}(M')$ and right hand side of \n",
    "   the Euler equation $RHS = \\beta R u'\\big(c_{t+1}(M')\\big)$\n",
    "6. Invert the Euler equation to compute consumption in current period $c = (u')^{(-1)}\\big( \\beta R u'(c_{i-1}(M')) \\big)$  \n",
    "7. Recall the interpretation of $a$ and compute current wealth point $M = c + a$\n",
    "8. Return to 3 and repeat for the whole grid over $a$. The resulting pairs of $M$ and $c$ approximate function $c_{i}(M)$\n",
    "9. Return to 2 until convergence in policy function $c(M)$ space, i.e. $||c_{i}(M) - c_{i-1}(M)||<\\varepsilon$"
   ]
  },
  {
   "cell_type": "markdown",
   "metadata": {
    "slideshow": {
     "slide_type": "slide"
    }
   },
   "source": [
    "## EGM algorithm as parametric function\n",
    "\n",
    "The system parameterized with $a$\n",
    "\n",
    "\\begin{equation}\n",
    "\\begin{cases}\n",
    "c &=& (u')^{(-1)}\\big[ \\beta R u'\\big(c_{i-1}(Ra+y)\\big) \\big] \\\\\n",
    "M &=& (u')^{(-1)}\\big[ \\beta R u'\\big(c_{i-1}(Ra+y)\\big) \\big] +a \n",
    "\\end{cases}\n",
    "\\end{equation}\n",
    "\n",
    "induces function $c_i(M)$ conditional on $c_{i-1}(M)$.\n",
    "\n",
    "EGM is iteration on this recursion after fixing some grid on parameter $a$."
   ]
  },
  {
   "cell_type": "markdown",
   "metadata": {
    "slideshow": {
     "slide_type": "slide"
    }
   },
   "source": [
    "## Accuracy and speed of EGM method compared to VFI\n",
    "\n"
   ]
  },
  {
   "cell_type": "code",
   "execution_count": null,
   "metadata": {
    "slideshow": {
     "slide_type": "slide"
    }
   },
   "outputs": [],
   "source": [
    "# Cake eating with truely continuous choice\n",
    "model = deaton(beta=0.92,R=1,y=0,Mbar=10,ngrid_state=100)\n",
    "V,c = model.solve_egm(maxiter=500,tol=1e-10)\n",
    "check_analytic(model,V=v,policy=c)"
   ]
  },
  {
   "cell_type": "code",
   "execution_count": null,
   "metadata": {
    "slideshow": {
     "slide_type": "slide"
    }
   },
   "outputs": [],
   "source": [
    "%%timeit -n10 -r2\n",
    "model = deaton(beta=0.92,R=1,y=0,Mbar=10,ngrid_state=50)\n",
    "model.solve_egm(maxiter=1000)"
   ]
  },
  {
   "cell_type": "markdown",
   "metadata": {
    "slideshow": {
     "slide_type": "slide"
    }
   },
   "source": [
    "## Conclusion\n",
    "\n",
    "**Always use the EGM methods when they are applicable**\n",
    "\n",
    "There are many generalizations of the endogenous gridpoint ideas:\n",
    "\n",
    "- continuous + discrete choice\n",
    "- multinomial continuous choice (with occationally binding constraints)\n",
    "- multinomial continuous + discrete choice (with occationally binding constraints)\n"
   ]
  }
 ],
 "metadata": {
  "celltoolbar": "Slideshow",
  "kernelspec": {
   "display_name": "Python 3",
   "language": "python",
   "name": "python3"
  },
  "language_info": {
   "codemirror_mode": {
    "name": "ipython",
    "version": 3
   },
   "file_extension": ".py",
   "mimetype": "text/x-python",
   "name": "python",
   "nbconvert_exporter": "python",
   "pygments_lexer": "ipython3",
   "version": "3.7.4"
  }
 },
 "nbformat": 4,
 "nbformat_minor": 2
}

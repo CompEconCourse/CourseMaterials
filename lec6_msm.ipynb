{
 "cells": [
  {
   "cell_type": "markdown",
   "metadata": {
    "slideshow": {
     "slide_type": "slide"
    }
   },
   "source": [
    "# Structural estimation of dynamic models\n",
    "\n",
    "“Dynamic programming and structural estimation” mini course\n",
    "\n",
    "Fedor Iskhakov"
   ]
  },
  {
   "cell_type": "markdown",
   "metadata": {
    "slideshow": {
     "slide_type": "slide"
    }
   },
   "source": [
    "## Self-written module from the disk\n",
    "\n",
    "The **deaton.py** is the module that has the code from previous lecture that implements the Deaton model"
   ]
  },
  {
   "cell_type": "code",
   "execution_count": null,
   "metadata": {
    "slideshow": {
     "slide_type": "fragment"
    }
   },
   "outputs": [],
   "source": [
    "# import deaton.py module\n",
    "import sys\n",
    "sys.path.insert(1, './')\n",
    "from deaton import *\n",
    "%matplotlib inline"
   ]
  },
  {
   "cell_type": "markdown",
   "metadata": {
    "slideshow": {
     "slide_type": "slide"
    }
   },
   "source": [
    "## Simulating from the model\n",
    "\n",
    "- When the policy function (optional consumption rule) $ c^\\star(M) $ is computed and plugged into the Bellman equation, we have a dynamic model *(similar to the inventory or wealth dynamics, see day 3)*  \n",
    "- Given any initial distribution of wealth, we can simulate it in any number periods under the optimal consumption/savings behavior  \n",
    "- We can also study dynamics of wealth distribution implied by the optimal consumption/savings behavior  "
   ]
  },
  {
   "cell_type": "markdown",
   "metadata": {
    "slideshow": {
     "slide_type": "slide"
    }
   },
   "source": [
    "### Simulation algorithm\n",
    "\n",
    "1. Draw initial wealth (initial conditions)  \n",
    "1. Apply the policy function  \n",
    "1. Compute the next period wealth (including random transitions if present)  \n",
    "1. Repeat from step 2 for the chosen number of periods  "
   ]
  },
  {
   "cell_type": "markdown",
   "metadata": {
    "slideshow": {
     "slide_type": "slide"
    }
   },
   "source": [
    "### Introduce random element into the model\n",
    "\n",
    "- Let income $ y $ be drawn from log-normal distributions in each time period  \n",
    "- Simulate the behavior of the agents in this environment using our solution of the consumption-savings model  \n",
    "\n",
    "\n",
    "*What behavior assumptions are we making implicitly?*"
   ]
  },
  {
   "cell_type": "code",
   "execution_count": null,
   "metadata": {
    "hide-output": false,
    "slideshow": {
     "slide_type": "slide"
    }
   },
   "outputs": [],
   "source": [
    "def simulator(model, policy, init=[1], T=100, sigma_y=0.,plot=True):\n",
    "    '''Simulator for T periods of the model, init = initial wealth'''\n",
    "    assert isinstance(model,deaton), 'Need Deaton model as first input'\n",
    "    # prepare the interpolation for the solution\n",
    "    inter = interpolate.interp1d(model.grid_state,policy,fill_value=\"extrapolate\")\n",
    "    # prepare the initial conditions\n",
    "    init = np.array(init).flatten()\n",
    "    N = init.size # number of individuals to simulate\n",
    "    sim = {'M': np.empty((N,T),dtype='float'),\n",
    "           'c': np.empty((N,T),dtype='float'),\n",
    "           'y': np.empty((N,T),dtype='float'),}\n",
    "    # initialize wealth in first period\n",
    "    sim['M'][:,0] = init\n",
    "    sim['y'][:,0] = np.full(init.shape,np.nan)\n",
    "    for t in range(T):\n",
    "        sim['c'][:,t] = inter(sim['M'][:,t]) # optim consumption\n",
    "        if t < T-1: # until the last period\n",
    "            y = np.exp(sigma_y * np.random.randn(N)) # draw incomes\n",
    "            sim['y'][:,t+1] = y\n",
    "            sim['M'][:,t+1] = model.R*(sim['M'][:,t]-sim['c'][:,t]) + y # compute next period wealth\n",
    "    if plot:\n",
    "        fig, ax = plt.subplots(1,1,figsize=(10,8))\n",
    "        ax.plot(np.transpose(sim['M']))\n",
    "        ax.set_title('Simulated wealth paths');\n",
    "        plt.show()\n",
    "    return sim"
   ]
  },
  {
   "cell_type": "code",
   "execution_count": null,
   "metadata": {
    "hide-output": false,
    "scrolled": false,
    "slideshow": {
     "slide_type": "slide"
    }
   },
   "outputs": [],
   "source": [
    "model = deaton(beta=0.95,y=1,Mbar=30,ngrid_state=50,ngrid_choice=150)\n",
    "V,policy = model.solve_egm(maxiter=500)\n",
    "# V,policy = model.solve_vfi(maxiter=500)\n",
    "np.random.seed(14) # fix seed for initial draws\n",
    "init_wealth = np.exp(np.random.randn(50)) # draw initial wealth\n",
    "np.random.seed(15) # fix seed for simulations\n",
    "d=simulator(model,policy,init=init_wealth,sigma_y=.65,T=200)"
   ]
  },
  {
   "cell_type": "code",
   "execution_count": null,
   "metadata": {
    "hide-output": false,
    "slideshow": {
     "slide_type": "slide"
    }
   },
   "outputs": [],
   "source": [
    "# draw simulated inomes\n",
    "fig1, ax1 = plt.subplots(figsize=(12,8))\n",
    "ax1.plot(np.transpose(d['y']))\n",
    "ax1.set_title('Simulated incomes 1');\n",
    "plt.show()"
   ]
  },
  {
   "cell_type": "code",
   "execution_count": null,
   "metadata": {
    "hide-output": false,
    "slideshow": {
     "slide_type": "slide"
    }
   },
   "outputs": [],
   "source": [
    "# draw simulated consumption\n",
    "fig1, ax1 = plt.subplots(figsize=(12,8))\n",
    "ax1.plot(np.transpose(d['M']))\n",
    "ax1.set_title('Simulated consumption paths 1');\n",
    "plt.show()"
   ]
  },
  {
   "cell_type": "markdown",
   "metadata": {
    "slideshow": {
     "slide_type": "slide"
    }
   },
   "source": [
    "## Structural estimation\n",
    "\n",
    "Changing parameters of the model is reflected in changes in the simulated profiles.\n",
    "\n",
    "Imagine we have data on observed consumption or wealth profiles for a sample of people.\n",
    "\n",
    "Can find parameters of the model that would induce the simulated data to reflect the observed data in the best possible way."
   ]
  },
  {
   "cell_type": "markdown",
   "metadata": {
    "slideshow": {
     "slide_type": "slide"
    }
   },
   "source": [
    "### Method of simulated moments\n",
    "\n",
    "The idea of *directly* matching simulated data to the observed one leads to the method of moments estimator\n",
    "\n",
    "- Method of moments: # of parameters = # of moments to match, system of equations  \n",
    "- Generalized method of moments (GMM): # of parameters < # of moments, minimize the distance between the data moments and theoretical moments  \n",
    "- Method of simulated moments (MSM): using simulations to compute the theoretical moments  "
   ]
  },
  {
   "cell_type": "markdown",
   "metadata": {
    "slideshow": {
     "slide_type": "slide"
    }
   },
   "source": [
    "### MSM properties\n",
    "\n",
    "MSM is very flexible in applications:\n",
    "\n",
    "- not data hungry (may match aggregated moments)  \n",
    "- allows to combine different sources of data  \n",
    "- does not require complete specification for random variables  \n",
    "- lacks in efficiency, so standard errors are larger (depend on sample size)  "
   ]
  },
  {
   "cell_type": "markdown",
   "metadata": {
    "slideshow": {
     "slide_type": "slide"
    }
   },
   "source": [
    "### Sources of identification\n",
    "\n",
    "Parameters are identified from both\n",
    "\n",
    "1. the variation of the observed data  \n",
    "1. modeling assumptions such as **exclusion restrictions**, **functional forms** and **distributional assumptions**  \n",
    "\n",
    "\n",
    "This is true for both *reduced form* econometrics and *structural econometrics*,\n",
    "although the former usually emphasizes low number of assumptions and low importance of 2."
   ]
  },
  {
   "cell_type": "markdown",
   "metadata": {
    "slideshow": {
     "slide_type": "slide"
    }
   },
   "source": [
    "### Structural vs. reduced form econometrics\n",
    "\n",
    "Compared to reduced form, structural econometrics is very explicit of the assumptions\n",
    "in the model (and is often criticized for excessive number or unreasonable assumptions)\n",
    "\n",
    "But it uses **economic theory** to formulate the assumptions, and is able to leverage theoretical knowledge for making predictions"
   ]
  },
  {
   "cell_type": "markdown",
   "metadata": {
    "slideshow": {
     "slide_type": "slide"
    }
   },
   "source": [
    "### Counterfactual simulations\n",
    "\n",
    "1. Estimate the model using observed data  \n",
    "1. Verify the model (highly desirable step, not always possible)  \n",
    "1. Simulate data under status quo  \n",
    "1. Change the policy environment, while deep behavioral parameters are unaffected  \n",
    "1. Simulate data under alternative regime  \n",
    "1. Compare to reveal the effects of the policy  "
   ]
  },
  {
   "cell_type": "markdown",
   "metadata": {
    "slideshow": {
     "slide_type": "slide"
    }
   },
   "source": [
    "### MSM estimator\n",
    "\n",
    "**Algorithm**\n",
    "\n",
    "1. Choose the set of statistics (moments) to match  \n",
    "  - Choosing which moments to match is more art than science  \n",
    "  - Requirement: have to lead to identification of parameters  \n",
    "  - Economic intuition  \n",
    "1. For a given set of structural parameters:  \n",
    "1. Solve the model  \n",
    "1. Simulated data from the model  \n",
    "1. Compute model conditions = differences between the  "
   ]
  },
  {
   "cell_type": "markdown",
   "metadata": {
    "slideshow": {
     "slide_type": "slide"
    }
   },
   "source": [
    "### Standard errors of estimates\n",
    "\n",
    "- Each estimation method produces measure of accuracy of the computed estimates  \n",
    "- Idea: this is reflected in the flatness of the criterion function at the optimum  \n",
    "- Theoretical foundation in asymptotic theory, standard in econometrics  \n",
    "- Not hard to compute, apart from degenerate cases  \n",
    "- Is also a numerical diagnostic tool for potential problems with the model, such as identification  "
   ]
  },
  {
   "cell_type": "markdown",
   "metadata": {
    "slideshow": {
     "slide_type": "slide"
    }
   },
   "source": [
    "### Definition of MSM estimator\n",
    "\n",
    "$$\n",
    "\\hat{\\theta}_{MSM} = \\arg\\min_{\\theta} e(\\tilde{x},x|\\theta)^{T} W e(\\tilde{x},x|\\theta)\n",
    "$$\n",
    "\n",
    "$ x $ and $ \\tilde{x} $ is observed and simulated data,\n",
    "\n",
    "$ e(\\tilde{x},x|\\theta) $ is the difference between observed and simulated moments\n",
    "\n",
    "$$\n",
    "e(\\tilde{x},x|\\theta) = m(x) - m(\\tilde{x}|\\theta),\n",
    "$$\n",
    "\n",
    "$ W $ is weighting matrix (important for the efficiency of the estimator)"
   ]
  },
  {
   "cell_type": "markdown",
   "metadata": {
    "slideshow": {
     "slide_type": "slide"
    }
   },
   "source": [
    "### Estimation exercise\n",
    "\n",
    "- Structural parameter: is discount factor $ \\beta $ (true value 0.91)  \n",
    "- Moments to match: mean and standard deviation of the (stationary) wealth distribution  \n",
    "- Use simplest identity weighting matrix $ W $ for now  \n",
    "  - In reality it would make sense to weight down the moments which are poorly measured in the data  \n",
    "  - There is a theory of what the optimal weighting matrix should be, but in practice a simpler approximations are usually used  \n",
    "- Income is drawn from log-normal distribution with $ sigma_y=0.65 $, but agents are myopic about income uncertainty  "
   ]
  },
  {
   "cell_type": "code",
   "execution_count": null,
   "metadata": {
    "hide-output": false,
    "slideshow": {
     "slide_type": "slide"
    }
   },
   "outputs": [],
   "source": [
    "# Simulate DATA using true parameters\n",
    "model = deaton(beta=0.91,y=1,Mbar=30,ngrid_state=50,ngrid_choice=50)\n",
    "[],dgp = model.solve_egm()\n",
    "np.random.seed(14) # fix seed for initial draws\n",
    "init_wealth = np.exp(np.random.randn(40)) # draw initial wealth\n",
    "np.random.seed(15) # fix seed for simulations\n",
    "data = simulator(model,dgp,init=init_wealth,T=120,sigma_y=.65)"
   ]
  },
  {
   "cell_type": "code",
   "execution_count": null,
   "metadata": {
    "hide-output": false,
    "slideshow": {
     "slide_type": "slide"
    }
   },
   "outputs": [],
   "source": [
    "# Data moments\n",
    "print('Number of observed individuals: ',data['M'].shape[0],sep=' ')\n",
    "print('Number of observed time periods:',data['M'].shape[1],sep=' ')\n",
    "data_mean = np.mean(data['M'][:,-10:])\n",
    "data_std = np.std(data['M'][:,-10:])\n",
    "print('Mean wealth (pooled over last 10 simulated time periods):  ',data_mean,sep=' ')\n",
    "print('Std of wealth (pooled over last 10 simulated time periods):',data_std,sep=' ')"
   ]
  },
  {
   "cell_type": "code",
   "execution_count": null,
   "metadata": {
    "hide-output": false,
    "slideshow": {
     "slide_type": "slide"
    }
   },
   "outputs": [],
   "source": [
    "# MSM estimation exercise\n",
    "model = deaton(beta=0.95,y=1,Mbar=30,ngrid_state=100,ngrid_choice=250)\n",
    "np.random.seed(214) # different seed from DGP\n",
    "init_wealth = np.exp(np.random.randn(150)) # draw initial wealth\n",
    "W = np.eye(2) #weighting matrix\n",
    "\n",
    "def moment_conditions(beta):\n",
    "    '''Moment conditions for MSM estimator'''\n",
    "    model.beta = beta\n",
    "    np.random.seed(215) # must be fixed between calls!\n",
    "    v,p = model.solve_vfi(maxiter=1000)\n",
    "    simdata = simulator(model,p,init=init_wealth,T=125,sigma_y=.65,plot=False)\n",
    "    #compute simulated moments\n",
    "    simdata_mean = np.mean(simdata['M'][:,-10:])\n",
    "    simdata_std = np.std(simdata['M'][:,-10:])\n",
    "    err = np.array([data_mean-simdata_mean, data_std-simdata_std])\n",
    "    return err\n",
    "\n",
    "def criterion(beta):\n",
    "    '''Criterion function for MSM estimator'''\n",
    "    err = moment_conditions(beta)\n",
    "    return err @ W @ err.T #matrix multiplication"
   ]
  },
  {
   "cell_type": "code",
   "execution_count": null,
   "metadata": {
    "hide-output": false,
    "slideshow": {
     "slide_type": "slide"
    }
   },
   "outputs": [],
   "source": [
    "# Plot criterion for visual inspection\n",
    "xd = np.linspace(.85,.94,20)\n",
    "yd = [criterion(b) for b in xd]\n",
    "plt.figure(num=1, figsize=(10,8))\n",
    "plt.plot(xd,yd,color='r')\n",
    "plt.title('Criterion function of the MSM estimator');"
   ]
  },
  {
   "cell_type": "code",
   "execution_count": null,
   "metadata": {
    "hide-output": false,
    "slideshow": {
     "slide_type": "slide"
    }
   },
   "outputs": [],
   "source": [
    "# Run numerical optimization\n",
    "from scipy.optimize import minimize_scalar\n",
    "\n",
    "res = minimize_scalar(criterion,\n",
    "                      method='Bounded',\n",
    "                      bounds=[.85,.95],\n",
    "                      options={'maxiter':100, 'xatol':1e-8},\n",
    "                      )\n",
    "if res.success:\n",
    "    print('Converged successfully!')\n",
    "    print(res)\n",
    "    beta_hat = res.x\n",
    "else:\n",
    "    print('Failed to converge')"
   ]
  },
  {
   "cell_type": "markdown",
   "metadata": {
    "slideshow": {
     "slide_type": "slide"
    }
   },
   "source": [
    "### Calculating the variance-covariance matrix for the estimates\n",
    "\n",
    "Daniel McFadden. A method of simulated moments for estimation of discrete response models without numerical integration. Econometrica, 1989 (pages 995–1026)\n",
    "\n",
    "Ariel Pakes and David Pollard. Simulation and the Asymptotics of Optimization Estimators. Econometrica, 1989 (pp. 1027-1057)"
   ]
  },
  {
   "cell_type": "markdown",
   "metadata": {
    "slideshow": {
     "slide_type": "slide"
    }
   },
   "source": [
    "- The asymptotic theory is well established, but full expressions are cumbersome  \n",
    "- When weighting matrix $ W $ is identity matrix, the variance-covariance matrix of the estimates is given by  \n",
    "\n",
    "\n",
    "$$\n",
    "\\hat{\\Sigma} = (1-N/\\tilde{N}) \\big(D' D \\big)^{-1},\n",
    "$$\n",
    "\n",
    "$ N $ and $ \\tilde{N} $ are number of observations and number of simulations\n",
    "\n",
    "$ D $ is the Jacobian of the moment conditions $ e(\\tilde{x},x|\\theta) $ with respect to $ \\theta $ computed at a consistent estimator"
   ]
  },
  {
   "cell_type": "code",
   "execution_count": null,
   "metadata": {
    "hide-output": false,
    "slideshow": {
     "slide_type": "slide"
    }
   },
   "outputs": [],
   "source": [
    "# Compute numerical derivatives of the moment conditions\n",
    "h = 1e-4\n",
    "f0 = moment_conditions(beta_hat)\n",
    "f1 = moment_conditions(beta_hat-h)\n",
    "D = (f0-f1)/h\n",
    "N = data['M'].shape[0]\n",
    "Nt = init_wealth.size\n",
    "Sigma = (1-N/Nt)/(np.dot(D,D))\n",
    "beta_std = np.sqrt(Sigma)\n",
    "#Main output:\n",
    "print('Final estimate is ',beta_hat,' (',beta_std,')')"
   ]
  },
  {
   "cell_type": "markdown",
   "metadata": {
    "slideshow": {
     "slide_type": "slide"
    }
   },
   "source": [
    "### This is only a primer to MSM\n",
    "\n",
    "To complete MSM:\n",
    "\n",
    "- more accurate weighting matrix  \n",
    "- iterative procedure to recompute the weighting matrix using the current consistent (but not efficient) MSM estimator  \n",
    "- better founded choice of moments to match  \n",
    "- identification analysis (including manual simulations)  \n",
    "- obvious extension to multiple structural parameters  "
   ]
  }
 ],
 "metadata": {
  "celltoolbar": "Slideshow",
  "date": 1576790028.315444,
  "filename": "structural_estimation.rst",
  "kernelspec": {
   "display_name": "Python 3",
   "language": "python",
   "name": "python3"
  },
  "language_info": {
   "codemirror_mode": {
    "name": "ipython",
    "version": 3
   },
   "file_extension": ".py",
   "mimetype": "text/x-python",
   "name": "python",
   "nbconvert_exporter": "python",
   "pygments_lexer": "ipython3",
   "version": "3.7.4"
  },
  "title": "Structural estimation of dynamic models"
 },
 "nbformat": 4,
 "nbformat_minor": 2
}

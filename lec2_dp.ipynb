{
 "cells": [
  {
   "cell_type": "markdown",
   "metadata": {
    "slideshow": {
     "slide_type": "slide"
    }
   },
   "source": [
    "# Dynamic programming 101\n",
    "\n",
    "“Dynamic programming and structural estimation” mini course\n",
    "\n",
    "Fedor Iskhakov\n"
   ]
  },
  {
   "cell_type": "code",
   "execution_count": null,
   "metadata": {
    "slideshow": {
     "slide_type": "skip"
    }
   },
   "outputs": [],
   "source": [
    "pip install RISE # to make slideshow with Jupyter Notebooks"
   ]
  },
  {
   "cell_type": "markdown",
   "metadata": {
    "slideshow": {
     "slide_type": "slide"
    }
   },
   "source": [
    "### What is Dynamic Programming\n",
    "\n",
    "**“DP is recursive method for solving sequential decision problems”**\n",
    "\n",
    "📖 Rust 2006, *New Palgrave Dictionary of Economics*\n",
    "\n",
    "In computer science the meaning of the term is broader:\n",
    "**DP is a general algorithm design technique for solving problems with\n",
    "overlapping sub-problems.**\n",
    "\n",
    "Generally allows solving in polynomial time ($ O(n^k) $) problems that would\n",
    "otherwise take exponential time  ($ O(a^n) $)"
   ]
  },
  {
   "cell_type": "markdown",
   "metadata": {
    "slideshow": {
     "slide_type": "slide"
    }
   },
   "source": [
    "## Example problem\n",
    "\n",
    "**Tiling with dominoes**\n",
    "\n",
    "Given a $ 3 \\times n $ board, find **the number of ways** to\n",
    "fill it with $ 2 \\times 1 $ dominoes."
   ]
  },
  {
   "cell_type": "markdown",
   "metadata": {
    "slideshow": {
     "slide_type": "slide"
    }
   },
   "source": [
    "## Examples of tiling\n",
    "\n",
    "These are three possible ways to fill up $ 3 \\times 2 $ board\n",
    "\n",
    "<img src=\"_static/tile1.jpg\" style=\"height:100px;\">\n",
    "\n",
    "This is one possible way to tile $ 3 \\times 8 $ board\n",
    "\n",
    "<img src=\"_static/tile2.jpg\" style=\"height:100px;\">\n",
    "\n",
    "The problem is to compute the number of possible tilings for any $ 3 \\times n $ board."
   ]
  },
  {
   "cell_type": "markdown",
   "metadata": {
    "slideshow": {
     "slide_type": "slide"
    }
   },
   "source": [
    "## Breaking the big problem into subproblems\n",
    "\n",
    "Observe that at any possible stage of filling up a $ 3 \\times n $ board we may have\n",
    "the following configurations\n",
    "\n",
    "<img src=\"_static/tile3.jpg\" style=\"height:180px;\">\n",
    "\n",
    "And it is impossible to have the following configurations\n",
    "\n",
    "<img src=\"_static/tile4.jpg\" style=\"height:150px;\">"
   ]
  },
  {
   "cell_type": "markdown",
   "metadata": {
    "slideshow": {
     "slide_type": "slide"
    }
   },
   "source": [
    "## Defining the recursion\n",
    "\n",
    "The case of $ A_n $:\n",
    "\n",
    "<img src=\"_static/tile5.jpg\" style=\"height:120px;\">\n",
    "\n",
    "The case of $ B_n $:\n",
    "\n",
    "<img src=\"_static/tile6.jpg\" style=\"height:120px;\">\n",
    "\n",
    "The case of $ C_n $ is identical to $ B_n $, i.e. $ C_n = B_n $"
   ]
  },
  {
   "cell_type": "markdown",
   "metadata": {
    "slideshow": {
     "slide_type": "slide"
    }
   },
   "source": [
    "## Recursive solution\n",
    "\n",
    "Therefore for any $ n $ we have\n",
    "\n",
    "$$\n",
    "\\begin{eqnarray*}\n",
    "A_n &=& A_{n-2} + 2 B_{n-1} \\\\\n",
    "B_n &=& A_{n-1} + B_{n-2}\n",
    "\\end{eqnarray*}\n",
    "$$\n",
    "\n",
    "The answer to the whole problem is given by $ A_n $\n",
    "\n",
    "1. Inductive computation of the two sequences.  \n",
    "1. Can be improved by *memoization* (optimization technique based on caching previous calls to the function)  "
   ]
  },
  {
   "cell_type": "code",
   "execution_count": null,
   "metadata": {
    "hide-output": false,
    "slideshow": {
     "slide_type": "slide"
    }
   },
   "outputs": [],
   "source": [
    "def WaysTileDominoes(n):\n",
    "    '''Compute the number of ways to tile 3 x n area by 2x1 tiles'''\n",
    "    A = [0] * (n + 1)\n",
    "    B = [0] * (n + 1)\n",
    "    A[0] = 1 # one way to tile 3x0\n",
    "    A[1] = 0 # no way to tile 3x1\n",
    "    B[0] = 0 # no way to tile 3x0 without a corner\n",
    "    B[1] = 1 # one way to tile 3x1 without a corner\n",
    "    for i in range(2, n+1): # loop over 2,3,..,n\n",
    "        A[i] = A[i-2] + 2 * B[i-1]\n",
    "        B[i] = A[i-1] + B[i-2]\n",
    "    return A[n]"
   ]
  },
  {
   "cell_type": "code",
   "execution_count": null,
   "metadata": {
    "hide-output": false,
    "slideshow": {
     "slide_type": "slide"
    }
   },
   "outputs": [],
   "source": [
    "for n in range(1,20):\n",
    "  print('There are',WaysTileDominoes(n),'to tile the 3 by',n,'board')"
   ]
  },
  {
   "cell_type": "markdown",
   "metadata": {
    "slideshow": {
     "slide_type": "slide"
    }
   },
   "source": [
    "## Breaking the problem into sequence of small problems\n",
    "\n",
    "- Thus, the sequential decision problem is broken into *initial decision*\n",
    "  problem and the *future decisions* problem  \n",
    "- The solution can be computed through **backward induction**,\n",
    "  i.e. solving a sequential decision problem from the later periods  \n",
    "- Embodiment of the recursive way of modeling sequential decisions is\n",
    "  **Bellman equation**  "
   ]
  },
  {
   "cell_type": "markdown",
   "metadata": {
    "slideshow": {
     "slide_type": "slide"
    }
   },
   "source": [
    "## Dynamic programming in economics\n",
    "\n",
    "Many important problems and economic models are analyzed and solved\n",
    "using dynamic programming:\n",
    "\n",
    "- Dynamic models of labor supply  \n",
    "- Job search  \n",
    "- Human capital accumulation  \n",
    "- Health process, insurance and long term care  \n",
    "- Consumption/savings choices  \n",
    "- Durable consumption  \n",
    "- Growth models  \n",
    "- Heterogeneous agents models  \n",
    "- Overlapping generation models  "
   ]
  },
  {
   "cell_type": "markdown",
   "metadata": {
    "slideshow": {
     "slide_type": "slide"
    }
   },
   "source": [
    "### Infinite horizon\n",
    "\n",
    "- Tiling problem is inherently finite (Right?)\n",
    "- For infinite problems things are a little different  \n",
    "- How can we be sure that the algorithm would terminate?  "
   ]
  },
  {
   "cell_type": "markdown",
   "metadata": {
    "slideshow": {
     "slide_type": "slide"
    }
   },
   "source": [
    "### Value of annuity\n",
    "\n",
    "$$\n",
    "\\stackrel{\\nearrow}{V} \\quad\n",
    "\\stackrel{\\searrow}{c} \\quad\n",
    "\\stackrel{\\searrow}{c} \\quad\n",
    "\\stackrel{\\searrow}{c} \\quad\n",
    "\\dots\n",
    "$$\n",
    "\n",
    "- interest rate $ r $  \n",
    "- What is the value of the annuity $ V $?  "
   ]
  },
  {
   "cell_type": "markdown",
   "metadata": {
    "slideshow": {
     "slide_type": "slide"
    }
   },
   "source": [
    "### Value of annuity\n",
    "\n",
    "$$\n",
    "\\stackrel{\\nearrow}{V} \\quad\n",
    "\\stackrel{\\searrow}{c} \\quad\n",
    "\\stackrel{\\searrow}{c} \\quad\n",
    "\\stackrel{\\searrow}{c} \\quad\n",
    "\\dots\n",
    "$$\n",
    "\n",
    "$$\n",
    "V=\\quad\n",
    "\\frac{c}{(1+r)^0} + \\quad\n",
    "\\frac{c}{(1+r)^1} + \\quad\n",
    "\\frac{c}{(1+r)^2} + \\quad\n",
    "\\frac{c}{(1+r)^3} + \\quad\n",
    "\\dots\n",
    "$$\n",
    "\n",
    "$$\n",
    "\\beta = \\frac{1}{1+r}\n",
    "$$\n",
    "\n",
    "$$\n",
    "V=\\quad\n",
    "c + \\quad\n",
    "c \\beta + \\quad\n",
    "c \\beta^2 + \\quad\n",
    "c \\beta^3 + \\quad\n",
    "\\dots\n",
    "=\n",
    "\\sum_{t=0}^{\\infty} \\beta^t c\n",
    "$$"
   ]
  },
  {
   "cell_type": "markdown",
   "metadata": {
    "slideshow": {
     "slide_type": "slide"
    }
   },
   "source": [
    "### Answer by the geometric series formula\n",
    "\n",
    "Assuming $ \\beta<1 $\n",
    "\n",
    "$$\n",
    "V = \\sum_{t=0}^{\\infty} \\beta^t c = \\frac{c}{1-\\beta}\n",
    "$$\n",
    "\n",
    "Can reformulate as **recursive equation**\n",
    "\n",
    "$$\n",
    "V = c + \\beta ( c + \\beta c + \\beta^2 c + \\dots ) = c + \\beta V\n",
    "$$"
   ]
  },
  {
   "cell_type": "markdown",
   "metadata": {
    "slideshow": {
     "slide_type": "slide"
    }
   },
   "source": [
    "### Backward induction\n",
    "\n",
    "1. Start with a guess $ V_0 $  \n",
    "1. Insert into the Bellman equation  \n",
    "\n",
    "\n",
    "$$\n",
    "V_{i+1} = c + \\beta V_i\n",
    "$$\n",
    "\n",
    "1. Repeat until convergence  \n",
    "\n",
    "\n",
    "$$\n",
    "||V_{i}-V_{i-1}||\\leq\\varepsilon\\text{ (small number)}\n",
    "$$"
   ]
  },
  {
   "cell_type": "code",
   "execution_count": null,
   "metadata": {
    "slideshow": {
     "slide_type": "slide"
    }
   },
   "outputs": [],
   "source": [
    "import numpy as np\n",
    "import matplotlib.pyplot as plt\n",
    "%matplotlib inline\n",
    "\n",
    "class annuity():\n",
    "    def __init__(self,c=1,beta=.9):\n",
    "        self.c = c           # Annual payment\n",
    "        self.beta = beta     # Discount factor\n",
    "        self.analytic = c/(1-beta)  # compute analytic solution right away\n",
    "    def bellman(self,V):\n",
    "        '''Bellman equation'''\n",
    "        return self.c + self.beta*V\n",
    "    def solve(self, maxiter = 1000, tol=1e-4, verbose=False):\n",
    "        '''Solves the model using successive approximations'''\n",
    "        if verbose: print('{:<4} {:>15} {:>15}'.format('Iter','Value','Error'))\n",
    "        V0=0\n",
    "        for i in range(maxiter):\n",
    "            V1=self.bellman(V0)\n",
    "            if verbose: print('{:<4d} {:>15.8f} {:>15.8f}'.format(i,V1,V1-self.analytic))\n",
    "            if abs(V1-V0) < tol:\n",
    "                break\n",
    "            V0=V1\n",
    "        else:  # when i went up to maxiter\n",
    "            print('No convergence: maximum number of iterations achieved!')\n",
    "        return V1"
   ]
  },
  {
   "cell_type": "code",
   "execution_count": null,
   "metadata": {
    "slideshow": {
     "slide_type": "slide"
    }
   },
   "outputs": [],
   "source": [
    "a = annuity(c=10,beta=0.954)\n",
    "print('Analytic solution is',a.analytic)\n",
    "print('Numeric solution is ',a.solve())"
   ]
  },
  {
   "cell_type": "markdown",
   "metadata": {
    "slideshow": {
     "slide_type": "slide"
    }
   },
   "source": [
    "### Questions to think about\n",
    "\n",
    "- How many iterations are needed for computing the solution  \n",
    "- How does this number depend on model parameters  "
   ]
  }
 ],
 "metadata": {
  "celltoolbar": "Slideshow",
  "filename": "lecture6part1.rst",
  "kernelspec": {
   "display_name": "Python 3",
   "language": "python",
   "name": "python3"
  },
  "language_info": {
   "codemirror_mode": {
    "name": "ipython",
    "version": 3
   },
   "file_extension": ".py",
   "mimetype": "text/x-python",
   "name": "python",
   "nbconvert_exporter": "python",
   "pygments_lexer": "ipython3",
   "version": "3.7.4"
  },
  "title": "Dynamic programming in discrete world"
 },
 "nbformat": 4,
 "nbformat_minor": 4
}

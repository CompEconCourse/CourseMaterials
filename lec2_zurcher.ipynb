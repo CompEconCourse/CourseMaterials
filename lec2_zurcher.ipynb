{
 "cells": [
  {
   "cell_type": "markdown",
   "metadata": {
    "slideshow": {
     "slide_type": "slide"
    }
   },
   "source": [
    "# Empirical Model of Harold Zurcher\n",
    "\n",
    "“Dynamic programming and structural estimation” mini course\n",
    "\n",
    "Fedor Iskhakov\n",
    "\n",
    "Reading: **Rust (1987) \"Optimal Replacement of GMC Bus Engines: An Empirical Model of Harold Zurcher\"**"
   ]
  },
  {
   "cell_type": "markdown",
   "metadata": {
    "slideshow": {
     "slide_type": "slide"
    }
   },
   "source": [
    "**The economic question:** For how long one should continue to operate\n",
    "and maintain a bus before it is optimal to replace or rebuild the engine?\n",
    "\n",
    "**The model:** The optimal replacement decision is the solution to a dynamic optimization problem that formalizes the trade-off between two conflicting objectives:\n",
    "- Minimizing maintenance and replacement costs, vs.\n",
    "- Minimizing unexpected engine failures\n",
    "\n",
    "**Empirical question:** Did the decision maker (the superintendent of maintenance, Harold Zurcher) behave according to the optimal replacement rule implied by the theory model?\n",
    "\n",
    "**Structural estimation:** Using data on \\emph{monthly mileage and engine replacements} for a sample of GMC busses, Rust estimates the structural parameters in the engine replacement model using full solution maximum likelihood estimator.\n",
    "\n"
   ]
  },
  {
   "cell_type": "markdown",
   "metadata": {
    "slideshow": {
     "slide_type": "slide"
    }
   },
   "source": [
    "## Components of the dynamic model\n",
    "\n",
    "- **State variables** — vector of variables that describe all relevant\n",
    "  information about the modeled decision process, $ x_t $\n",
    "- **Decision variables** — vector of variables describing the choices,\n",
    "  $ d_t $  \n",
    "- **Instantaneous payoff** — utility function, $ u(x_t,d_t) $, with\n",
    "  time separable discounted utility  \n",
    "- **Motion rules** — agent’s beliefs of how state variable evolve\n",
    "  through time, conditional on choices, $x_{t+1} \\sim F(x_t,d_t) $  \n",
    "  \n",
    "Solution is given by:  \n",
    "- **Value function** — maximum attainable utility $ V(x_t) $  \n",
    "- **Policy function** — mapping from state space to action space that\n",
    "  returns the optimal choice, $ d^{\\star}(x_t) $  "
   ]
  },
  {
   "cell_type": "markdown",
   "metadata": {
    "slideshow": {
     "slide_type": "slide"
    }
   },
   "source": [
    "## Zurcher problem\n",
    "\n",
    "- choice set: $C = \\{0,1\\} = \\{\\text{keep},\\text{replace}\\}$\n",
    "\n",
    "Each bus comes in for repair once a month and Zurcher chooses between ordinary maintenance $(d_{t}=0)$ and overhaul/engine replacement $(d_{t}=1)$.\n",
    "\n",
    "- state space: mileage at time t since last engine overhaul $x_t$\n",
    "\n",
    "Harold observes many different attributes of the buses which come into the shop, but we focus on the main one for now."
   ]
  },
  {
   "cell_type": "markdown",
   "metadata": {},
   "source": [
    "## Zurcher's preferences \n",
    "\n",
    "Instanteneous payoffs are given by the cost function that depends on the choice\n",
    "\n",
    "\\begin{equation}\n",
    "    \\ u(x_{t},d_t,\\theta_1)=\\left \\{ \n",
    "    \\begin{array}{ll}\n",
    "        -RC-c(0,\\theta_1) & \\text{if }d_{t}=1 \\\\ \n",
    "        -c(x_{t},\\theta_1) & \\text{if }d_{t}=0%\n",
    "    \\end{array} \\right.\n",
    "\\end{equation}\n",
    "\n",
    "- $RC$ = replacement cost\n",
    "- $c(x,t)$ = cost of maintenance when \n",
    "- $\\theta_1$ = preference parameters"
   ]
  },
  {
   "cell_type": "markdown",
   "metadata": {
    "slideshow": {
     "slide_type": "slide"
    }
   },
   "source": [
    "## Motion rules\n",
    "\n",
    "- First of all, mileage is continuous. How to deal with the *continuous* state space?\n",
    "\n",
    "- Rust discretized the range of travelled miles into $n=175$ bins, indexed with $i$: \n",
    "$\\hat{X} = \\{\\hat{x}_1,...,\\hat{x}_n\\} \\text{ with } \\hat{x}_1=0$\n",
    "\n",
    "Mileage transition probability: for $j = 1,...,J$ \n",
    "$$\n",
    "p(x'|\\hat{x}_k, d,\\theta_2)=  \n",
    "\\begin{cases} \n",
    "Pr\\{x'=\\hat{x}_{k+j}|\\theta_2\\}= \\theta_{2j} \\text{ if }  d=0  \\\\ \n",
    "Pr\\{x'=\\hat{x}_{1+j}|\\theta_2\\}= \\theta_{2j}  \\text{ if }  d=1\n",
    "\\end{cases}\n",
    "$$\n",
    "\n",
    "- Mileage in the next period $x'$ can move up at most $J$ grid points\n",
    "- $J$ is determined by the distribution of mileage\n"
   ]
  },
  {
   "cell_type": "markdown",
   "metadata": {
    "slideshow": {
     "slide_type": "slide"
    }
   },
   "source": [
    "## Transition matrix for mileage, $d=0$\n",
    "\n",
    "If not replacing ($d=0$)\n",
    "\n",
    "$\\Pi(d=0)_{n x n} = \n",
    "\\begin{pmatrix}\n",
    "\\pi_0 & \\pi_1 & \\pi_2 & 0 & \\cdot & \\cdot & \\cdot & 0 \\\\\n",
    "0 & \\pi_0 & \\pi_1 & \\pi_2 & 0 & \\cdot & \\cdot & 0 \\\\\n",
    "0 & 0 &\\pi_0 & \\pi_1 & \\pi_2 & 0 & \\cdot & 0 \\\\\n",
    "\\cdot & \\cdot & \\cdot & \\cdot & \\cdot & \\cdot & \\cdot & \\cdot \\\\\n",
    "0 & \\cdot & \\cdot & 0 & \\pi_0 & \\pi_1 & \\pi_2 & 0 \\\\\n",
    "0 & \\cdot & \\cdot & \\cdot & 0 & \\pi_0 & \\pi_1 & \\pi_2 \\\\\n",
    "0 & \\cdot & \\cdot & \\cdot & \\cdot  & 0 & \\pi_0 & 1-\\pi_0 \\\\\n",
    "0 & \\cdot & \\cdot & \\cdot & \\cdot & \\cdot  & 0 & 1\n",
    "\\end{pmatrix}$\n"
   ]
  },
  {
   "cell_type": "markdown",
   "metadata": {
    "slideshow": {
     "slide_type": "slide"
    }
   },
   "source": [
    "## Transition matrix for mileage, $d=1$\n",
    "\n",
    "If replacing ($d=1$)\n",
    "\n",
    "$\\Pi(d=1)_{n x n} = \n",
    "\\begin{pmatrix}\n",
    "\\pi_0 & \\pi_1 & \\pi_2 & 0 & \\cdot & \\cdot & \\cdot & 0 \\\\\n",
    "\\pi_0 & \\pi_1 & \\pi_2 & 0 & \\cdot & \\cdot & \\cdot & 0 \\\\|\n",
    "\\pi_0 & \\pi_1 & \\pi_2 & 0 & \\cdot & \\cdot & \\cdot & 0 \\\\\n",
    "\\cdot & \\cdot & \\cdot & \\cdot & \\cdot & \\cdot & \\cdot & \\cdot \\\\\n",
    "\\pi_0 & \\pi_1 & \\pi_2 & 0 & \\cdot & \\cdot & \\cdot & 0 \\\\\n",
    "\\pi_0 & \\pi_1 & \\pi_2 & 0 & \\cdot & \\cdot & \\cdot & 0 \\\\\n",
    "\\pi_0 & \\pi_1 & \\pi_2 & 0 & \\cdot & \\cdot & \\cdot & 0 \\\\\n",
    "\\end{pmatrix}$"
   ]
  },
  {
   "cell_type": "markdown",
   "metadata": {
    "slideshow": {
     "slide_type": "slide"
    }
   },
   "source": [
    "## Dynamic optimization problem\n",
    "\n",
    "To minimize the discounted expected value of the costs, Zurcher should find such policy function $f(x_t):X\\rightarrow C$ as to attain the following maximization, where in each period $d_t=f(x_t)$:\n",
    "\n",
    "\\begin{equation}\n",
    "E\\sum_{t=0}^{\\infty} \\beta^t u(x_t,d_t) \\longrightarrow \\max\n",
    "\\end{equation}"
   ]
  },
  {
   "cell_type": "markdown",
   "metadata": {
    "slideshow": {
     "slide_type": "slide"
    }
   },
   "source": [
    "## Value function\n",
    "\n",
    "Let the function $V(x_t)$ denote the maximum attainable value at period t\n",
    "\n",
    "\\begin{equation}\n",
    "V(x_t) = max_{\\Pi} E \\sum_{j=t}^{\\infty} \\beta^{j-t} u(x_t,d_t)\n",
    "\\end{equation}\n",
    "\n",
    "where $\\Pi$ is a space of policy functions $f(x_t):X\\rightarrow C$, and $d_t = f(x_t)$\n",
    "\n"
   ]
  },
  {
   "cell_type": "markdown",
   "metadata": {
    "slideshow": {
     "slide_type": "slide"
    }
   },
   "source": [
    "## Recursive form of the maximization problem\n",
    "\n",
    "Using Bellman Principle of Optimality, we can show that the value function $V(x_t)$ constitutes the solution of the following functional equation \n",
    "\n",
    "\\begin{equation}\n",
    "V(x) = \\max_{d\\in C} \\big\\{ u(x,d) + \\beta E\\big[ V(x')\\big|x,d\\big] \\big\\}\n",
    "\\end{equation}\n",
    "\n",
    "where expectation is taken over the next period values of state $x'$ given the motion rule of the problem\n"
   ]
  },
  {
   "cell_type": "markdown",
   "metadata": {
    "slideshow": {
     "slide_type": "slide"
    }
   },
   "source": [
    "## Bellman operator\n",
    "\n",
    "**Bellman equation**\n",
    "\n",
    "\\begin{equation}\n",
    "V(x) = \\max_{d\\in C} \\big\\{ u(x,d) + \\beta E\\big[ V(x')\\big|x,d\\big] \\big\\}\n",
    "\\end{equation}\n",
    "\n",
    "can be written as a fixed point equation of the **Bellman operator** in the functional space\n",
    "\n",
    "$$\n",
    "T(V)(x) \\equiv \\max_{d \\in C} \\big\\{ u(x,d) + \\beta E\\big[ V(x') \\big|x,d\\big] \\big\\}\n",
    "$$\n",
    "\n",
    "The Bellman equations is then $ V(x) = T({V})(x) $, with the\n",
    "solution given by the fixed point $ T({V}) = V $"
   ]
  },
  {
   "cell_type": "markdown",
   "metadata": {
    "slideshow": {
     "slide_type": "slide"
    }
   },
   "source": [
    "## Contraction mapping theory\n",
    "\n",
    "- $ T(V)(x) $ is contraction mapping?\n",
    "- Blackwell sufficient conditions for contraction\n",
    "  - Monotonicity: satisfied due to maximization in $ T(V)(x) $\n",
    "  - Discounting: satisfied by elementary argument when $ \\beta<1 $  \n",
    "- **The Bellman operator is a contraction mapping!**  \n",
    "\n",
    "\n",
    "*Contraction Mapping Theorem (Banach Fixed Point Theorem)*\n",
    "Let $ (S,\\rho) $ be a complete metric space with a contraction mapping\n",
    "$ T: S \\rightarrow S $.\n",
    "Then\n",
    "1. $ T $ admits a unique fixed-point $ V^{\\star} \\in S $, i.e. $ T(V^{\\star}) = V^{\\star} $.\n",
    "2. $ V^{\\star} $ can be found by repeated application of the operator $ T $, i.e. $ T^n(V) \\rightarrow V^{\\star} $ as $ n\\rightarrow \\infty $."
   ]
  },
  {
   "cell_type": "markdown",
   "metadata": {
    "slideshow": {
     "slide_type": "slide"
    }
   },
   "source": [
    "## The contraction mapping theorem implies\n",
    "\n",
    "- Unique fixed point $ \\Leftrightarrow $ unique solution to the\n",
    "  Bellman equation  \n",
    "- The fixed point can be reached by an iterative process using an\n",
    "  **arbitrary initial guess**!  \n",
    "- Therefore VFI algorithm converges globally  "
   ]
  },
  {
   "cell_type": "markdown",
   "metadata": {
    "slideshow": {
     "slide_type": "slide"
    }
   },
   "source": [
    "## Making the model suitable for empirical work\n",
    "\n",
    "- Remember that Zurcher observes many different attributes of the busses that come into the shop\n",
    "- But we as an econometrician do not!\n",
    "- Yet, these are likely to be the reason for observing different behavior in same states\n",
    "\n",
    "**Error terms $\\varepsilon$**"
   ]
  },
  {
   "cell_type": "markdown",
   "metadata": {
    "slideshow": {
     "slide_type": "slide"
    }
   },
   "source": [
    "## Three independence assumptions\n",
    "\n",
    "1. Error terms are **independent across observations** due to random sampling\n",
    "2. Error terms come in pairs, one for each decision $d=0$ and $d=1$, and are **independent across choices**\n",
    "3. Conditional on $x$, there is no serial correlation in error terms **across time**"
   ]
  },
  {
   "cell_type": "markdown",
   "metadata": {
    "slideshow": {
     "slide_type": "slide"
    }
   },
   "source": [
    "## Updating the Bellman equation\n",
    "\n",
    "$\\varepsilon$ is a new (vector) state variable\n",
    "\n",
    "\\begin{equation}\n",
    "V(x,\\varepsilon) = \\max_{d\\in C} \\big\\{ u(x,\\varepsilon,d) + \\beta E\\big[ V(x',\\varepsilon')\\big|x,\\varepsilon,d\\big] \\big\\}\n",
    "\\end{equation}\n",
    "\n",
    "\\begin{equation}\n",
    "V(x,\\varepsilon) = \\max_{d\\in C} \\big\\{ u(x,\\varepsilon,d) + \\beta \n",
    "\\int_{X} \\int_{\\Omega} V(x',\\varepsilon') p(x',\\varepsilon'|x,\\varepsilon,d) dx'd\\varepsilon' \\big\\}\n",
    "\\end{equation}\n",
    "\n",
    "where $\\varepsilon[d]$ is the component of vector $\\varepsilon \\in \\mathbb{R}^2$ which corresponds to $d$\n"
   ]
  },
  {
   "cell_type": "markdown",
   "metadata": {
    "slideshow": {
     "slide_type": "slide"
    }
   },
   "source": [
    "## Rust assumptions\n",
    "\n",
    "1. Additive separability in preferences (**AS**)\n",
    "\n",
    "$$\n",
    "u(x,\\varepsilon,d) = u(x,d) + \\varepsilon[d],\n",
    "$$\n",
    "\n",
    "2. Conditional independence (**CI**)\n",
    "\n",
    "$$\n",
    "p(x',\\varepsilon'|x,\\varepsilon,d) = q(\\varepsilon'|x')\\cdot \\pi(x'|x,d)\n",
    "$$\n",
    "\n",
    "3. Extreme value Type I (EV1) distribution of $\\varepsilon$ (**EV**)"
   ]
  },
  {
   "cell_type": "markdown",
   "metadata": {
    "slideshow": {
     "slide_type": "slide"
    }
   },
   "source": [
    "## What Rust assumptions allow:\n",
    "\n",
    "\\begin{equation}\n",
    "V(x,\\varepsilon) = \\max_{d\\in C} \\big\\{ u(x,d) + \\varepsilon[d] + \\beta \n",
    "\\int_{X} \\int_{\\Omega} V(x',\\varepsilon') \\pi(x'|x,d) q(\\varepsilon'|x') dx' d\\varepsilon' \\big\\}\n",
    "\\end{equation}\n",
    "\n",
    "1. Separate out the deterministic part of choice specific value $v(x,d)$ (assumptions SA and CI)\n",
    "\n",
    "2. Compute the expectation of maximum using properties of EV1 (assumption EV)\n"
   ]
  },
  {
   "cell_type": "markdown",
   "metadata": {
    "slideshow": {
     "slide_type": "slide"
    }
   },
   "source": [
    "\\begin{equation}\n",
    "V(x,\\varepsilon) = \\max_{d\\in C} \\big\\{ u(x,d) + \\beta \n",
    "\\int_{X} \\Big( \\int_{\\Omega} V(x',\\varepsilon') q(\\varepsilon'|x') d\\varepsilon'\\Big)\n",
    "\\pi(x'|x,d) dx'\n",
    "+ \\varepsilon[d] \\big\\}\n",
    "\\end{equation}\n",
    "\n",
    "\n",
    "\\begin{equation}\n",
    "v(x,d) = u(x,d) + \\beta E\\big[ V(x',\\varepsilon')\\big|x,d\\big]\n",
    "\\end{equation}\n",
    "\n",
    "\\begin{equation}\n",
    "V(x',\\varepsilon') = \\max_{d\\in C} \\big\\{ v(x',d) + \\varepsilon'[d] \\big\\}\n",
    "\\end{equation}\n",
    "\n",
    "\\begin{equation}\n",
    "E\\big[ V(x',\\varepsilon')\\big|x,d\\big] = \n",
    "\\int_{X} \\log \\big( \\exp[v(x',0)] + \\exp[v(x',1)] \\big) \\pi(x'|x,d) dx'\n",
    "\\end{equation}\n",
    "\n",
    "\n"
   ]
  },
  {
   "cell_type": "markdown",
   "metadata": {
    "slideshow": {
     "slide_type": "slide"
    }
   },
   "source": [
    "## Bellman equation in expected value function space\n",
    "\n",
    "Let $EV(x,d)$ denote the expected value function, then we have\n",
    "\n",
    "\\begin{equation}\n",
    "EV(x,d) = \\int_{X} \\log \\big( \\exp[u(x',0) + \\beta EV(x',0)] + \\exp[u(x',1) + \\beta EV(x',1)] \\big) \\pi(x'|x,d) dx'\n",
    "\\end{equation}\n",
    "\n",
    "In the form of the operator\n",
    "\n",
    "$$\n",
    "T^*(EV)(x,d) \\equiv \\int_{X} \\log \\big( \\exp[u(x',0) + \\beta EV(x',0)] + \\exp[u(x',1) + \\beta EV(x',1)] \\big) \\pi(x'|x,d) dx'\n",
    "$$\n",
    "\n",
    "Solution to the Bellman functional equation $EV(x,d)$ is also a fixed point of $T^*$ operator, $T^*(EV)(x,d)=EV(x,d)$\n",
    "\n",
    "\n"
   ]
  },
  {
   "cell_type": "markdown",
   "metadata": {
    "slideshow": {
     "slide_type": "slide"
    }
   },
   "source": [
    "## Benefits of Rust's approach\n",
    "\n",
    "- Bellman operator in expected terms is also a contraction mapping\n",
    "- Dimentionality of this fixed point problem is smaller that the one in value function terms (because of $\\varepsilon$)\n",
    "- It is also numerically easier to work with smooth expected values $EV(x,d)$ rather than $V(x,\\varepsilon)$\n",
    "\n",
    "- Later we'll also see a very nice numerical optimization possibilities"
   ]
  },
  {
   "cell_type": "markdown",
   "metadata": {},
   "source": [
    "## Choice probabilities\n",
    "\n",
    "Once the fixed point is found, the *optimal* choice probability $P(d|x)$ is given by the Logit structure (assumption EV):\n",
    "\n",
    "\\begin{equation}\n",
    "P(d|x) = \\frac{\\exp[v(x,d)]}{\\sum_{d'\\in C} \\exp[v(x,d')]}\n",
    "\\end{equation}\n",
    "\n",
    "The choice probability serve as the bases for forming the likelihood function."
   ]
  },
  {
   "cell_type": "markdown",
   "metadata": {
    "slideshow": {
     "slide_type": "slide"
    }
   },
   "source": [
    "## How to solve Bellman equation\n",
    "\n",
    "**Value function iterations (VFI)** \n",
    "also known as successive approximations\n",
    "\n",
    "1. Start with arbitrary guess for $EV(x,d)$\n",
    "2. Apply $T^*$ operator\n",
    "3. Check for (uniform) convergence\n",
    "4. If not converged to a given level of tolerance, return to step 2, otherwise finish."
   ]
  },
  {
   "cell_type": "markdown",
   "metadata": {
    "slideshow": {
     "slide_type": "slide"
    }
   },
   "source": [
    "## Questions to think about\n",
    "\n",
    "- What determines the speed of convergence of the VFI algorithm?\n",
    "- How can we improve the convergence speed?\n",
    "\n",
    "\n",
    "Next lecture: MLE estimation of Harold Zurcher model\n"
   ]
  }
 ],
 "metadata": {
  "celltoolbar": "Slideshow",
  "kernelspec": {
   "display_name": "Python 3",
   "language": "python",
   "name": "python3"
  },
  "language_info": {
   "codemirror_mode": {
    "name": "ipython",
    "version": 3
   },
   "file_extension": ".py",
   "mimetype": "text/x-python",
   "name": "python",
   "nbconvert_exporter": "python",
   "pygments_lexer": "ipython3",
   "version": "3.7.4"
  }
 },
 "nbformat": 4,
 "nbformat_minor": 2
}
